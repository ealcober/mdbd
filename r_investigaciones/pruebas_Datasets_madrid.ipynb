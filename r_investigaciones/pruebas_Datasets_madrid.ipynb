{
 "cells": [
  {
   "cell_type": "markdown",
   "metadata": {},
   "source": [
    "# setwd('C:/Users/ealcober/git/mdbd/datasets_madrid')\n",
    "seleccionar convenientemente la carpeta con las fuentes del proyecto\n",
    "\n"
   ]
  },
  {
   "cell_type": "markdown",
   "metadata": {},
   "source": [
    "En primer lugar procedo a presentar los datos"
   ]
  },
  {
   "cell_type": "code",
   "execution_count": 2,
   "metadata": {},
   "outputs": [
    {
     "name": "stderr",
     "output_type": "stream",
     "text": [
      "Loading required package: XLConnect\n",
      "Warning message:\n",
      "\"package 'XLConnect' was built under R version 3.5.2\"Loading required package: XLConnectJars\n",
      "Warning message:\n",
      "\"package 'XLConnectJars' was built under R version 3.5.2\"XLConnect 0.2-15 by Mirai Solutions GmbH [aut],\n",
      "  Martin Studer [cre],\n",
      "  The Apache Software Foundation [ctb, cph] (Apache POI),\n",
      "  Graph Builder [ctb, cph] (Curvesapi Java library)\n",
      "http://www.mirai-solutions.com\n",
      "https://github.com/miraisolutions/xlconnect\n"
     ]
    }
   ],
   "source": [
    "setwd('C:/Users/ealcober/git/mdbd/sources_data')\n",
    "\n",
    "# para trabajar con ficheros excel\n",
    "if(!require(\"XLConnect\"))install.packages(\"XLConnect\") \n",
    "library(XLConnect)\n",
    "\n",
    "# Función para eliminar fila por índice\n",
    "removeRowByIndex <- function(x, row_index) {\n",
    "  nr <- nrow(x)\n",
    "  if (nr < row_index) {\n",
    "    print('row_index exceeds number of rows')\n",
    "  } else if (row_index == 1)\n",
    "  {\n",
    "    return(x[2:nr, ])\n",
    "  } else if (row_index == nr) {\n",
    "    return(x[1:(nr - 1), ])\n",
    "  } else {\n",
    "    return (x[c(1:(row_index - 1), (row_index + 1):nr), ])\n",
    "  }\n",
    "}\n",
    "\n",
    "# Funcion que convierte a 0's los NAs\n",
    "haz.cero.na=function(x){\n",
    "  ifelse(is.na(x),0,x)}"
   ]
  },
  {
   "cell_type": "code",
   "execution_count": 45,
   "metadata": {},
   "outputs": [],
   "source": [
    "# gasto de empresas en protección ambiental\n",
    "\n",
    "# Abre(si es posible) y carga el libro del fichero Excel \n",
    "gastoEmpresasProtAmbientalExcel<-loadWorkbook('anu1-3-7_mod.xls') \n",
    "# Lee los nombres de sus hojas de cálculo en un vector de tipo carácter\n",
    "myExcelFileSheetNames<-getSheets(gastoEmpresasProtAmbientalExcel)\n",
    "#Lee el contenido de la primera hoja de cálculo \n",
    "myExcelFileFirstSheet<- readWorksheet(gastoEmpresasProtAmbientalExcel,sheet=myExcelFileSheetNames[1])\n",
    "myExcelFileSecondSheet<- readWorksheet(gastoEmpresasProtAmbientalExcel,sheet=myExcelFileSheetNames[2])\n"
   ]
  },
  {
   "cell_type": "code",
   "execution_count": 53,
   "metadata": {
    "scrolled": true
   },
   "outputs": [
    {
     "data": {
      "text/html": [
       "<table>\n",
       "<thead><tr><th scope=col>X1</th><th scope=col>X2</th><th scope=col>X3</th><th scope=col>X4</th><th scope=col>X5</th><th scope=col>X6</th><th scope=col>X7</th><th scope=col>X8</th><th scope=col>X9</th><th scope=col>X10</th><th scope=col>X11</th><th scope=col>X12</th></tr></thead>\n",
       "<tbody>\n",
       "\t<tr><td>Aguas residuales                           </td><td>Emisiones al aire                          </td><td>Equipos e instalaciones independientes     </td><td>Equipos e instalaciones integrados         </td><td>Gastos corrientes                          </td><td>Inversión total                            </td><td>Otros                                      </td><td>Protección de la biodiversidad y el paisaje</td><td>Protección del aire y el clima             </td><td>Residuos                                   </td><td>Ruidos y vibraciones                       </td><td>Suelos, aguas subterráneas y superficiales </td></tr>\n",
       "\t<tr><td>6949326                                    </td><td>3981030                                    </td><td>17965075                                   </td><td>36977027                                   </td><td>99006767                                   </td><td>54942102                                   </td><td>29417541                                   </td><td>1872248                                    </td><td>4581228                                    </td><td>4289686                                    </td><td>1300282                                    </td><td>2550761                                    </td></tr>\n",
       "\t<tr><td>2970893                                    </td><td>5011815                                    </td><td>61808066                                   </td><td>48044669                                   </td><td>92084075                                   </td><td>109852735                                  </td><td>38453052                                   </td><td>3986368                                    </td><td>50067483                                   </td><td>5087282                                    </td><td>675615                                     </td><td>3600227                                    </td></tr>\n",
       "\t<tr><td>6363843                                    </td><td>3835664                                    </td><td>25704185                                   </td><td>24916748                                   </td><td>100218980                                  </td><td>50620933                                   </td><td>12917271                                   </td><td>16007628                                   </td><td>2979434                                    </td><td>7282385                                    </td><td>735549                                     </td><td>499159                                     </td></tr>\n",
       "\t<tr><td>2382821                                    </td><td>2096818                                    </td><td>22801048                                   </td><td>13720607                                   </td><td>98436869                                   </td><td>36521655                                   </td><td>7207066                                    </td><td>17997497                                   </td><td>1441874                                    </td><td>3784603                                    </td><td>777239                                     </td><td>833737                                     </td></tr>\n",
       "\t<tr><td>2514053                                    </td><td>2774798                                    </td><td>22070611                                   </td><td>8820691                                    </td><td>92295024                                   </td><td>30891302                                   </td><td>2355189                                    </td><td>16984170                                   </td><td>1718060                                    </td><td>1805115                                    </td><td>616853                                     </td><td>2123064                                    </td></tr>\n",
       "\t<tr><td>1046192                                    </td><td>3842565                                    </td><td>26234839                                   </td><td>7380856                                    </td><td>88254392                                   </td><td>33615695                                   </td><td>1154467                                    </td><td>24599443                                   </td><td>439209                                     </td><td>1751608                                    </td><td>143289                                     </td><td>638922                                     </td></tr>\n",
       "\t<tr><td>4483657                                    </td><td>7228016                                    </td><td>27456552                                   </td><td>10877530                                   </td><td>95221165                                   </td><td>38334082                                   </td><td>535735                                     </td><td>20906633                                   </td><td>573202                                     </td><td>3612856                                    </td><td>215022                                     </td><td>778961                                     </td></tr>\n",
       "\t<tr><td>2395601                                    </td><td>4878975                                    </td><td>25781326                                   </td><td>7369368                                    </td><td>91089899                                   </td><td>33150694                                   </td><td>496705                                     </td><td>22059168                                   </td><td>1169432                                    </td><td>990920                                     </td><td>565789                                     </td><td>594104                                     </td></tr>\n",
       "\t<tr><td>2049641                                    </td><td>3016002                                    </td><td>24009708                                   </td><td>5697172                                    </td><td>93192388                                   </td><td>29706880                                   </td><td>522345                                     </td><td>20838951                                   </td><td>801170                                     </td><td>1114655                                    </td><td>467063                                     </td><td>897053                                     </td></tr>\n",
       "</tbody>\n",
       "</table>\n"
      ],
      "text/latex": [
       "\\begin{tabular}{r|llllllllllll}\n",
       " X1 & X2 & X3 & X4 & X5 & X6 & X7 & X8 & X9 & X10 & X11 & X12\\\\\n",
       "\\hline\n",
       "\t Aguas residuales                            & Emisiones al aire                           & Equipos e instalaciones independientes      & Equipos e instalaciones integrados          & Gastos corrientes                           & Inversión total                             & Otros                                       & Protección de la biodiversidad y el paisaje & Protección del aire y el clima              & Residuos                                    & Ruidos y vibraciones                        & Suelos, aguas subterráneas y superficiales \\\\\n",
       "\t 6949326                                     & 3981030                                     & 17965075                                    & 36977027                                    & 99006767                                    & 54942102                                    & 29417541                                    & 1872248                                     & 4581228                                     & 4289686                                     & 1300282                                     & 2550761                                    \\\\\n",
       "\t 2970893                                     & 5011815                                     & 61808066                                    & 48044669                                    & 92084075                                    & 109852735                                   & 38453052                                    & 3986368                                     & 50067483                                    & 5087282                                     & 675615                                      & 3600227                                    \\\\\n",
       "\t 6363843                                     & 3835664                                     & 25704185                                    & 24916748                                    & 100218980                                   & 50620933                                    & 12917271                                    & 16007628                                    & 2979434                                     & 7282385                                     & 735549                                      & 499159                                     \\\\\n",
       "\t 2382821                                     & 2096818                                     & 22801048                                    & 13720607                                    & 98436869                                    & 36521655                                    & 7207066                                     & 17997497                                    & 1441874                                     & 3784603                                     & 777239                                      & 833737                                     \\\\\n",
       "\t 2514053                                     & 2774798                                     & 22070611                                    & 8820691                                     & 92295024                                    & 30891302                                    & 2355189                                     & 16984170                                    & 1718060                                     & 1805115                                     & 616853                                      & 2123064                                    \\\\\n",
       "\t 1046192                                     & 3842565                                     & 26234839                                    & 7380856                                     & 88254392                                    & 33615695                                    & 1154467                                     & 24599443                                    & 439209                                      & 1751608                                     & 143289                                      & 638922                                     \\\\\n",
       "\t 4483657                                     & 7228016                                     & 27456552                                    & 10877530                                    & 95221165                                    & 38334082                                    & 535735                                      & 20906633                                    & 573202                                      & 3612856                                     & 215022                                      & 778961                                     \\\\\n",
       "\t 2395601                                     & 4878975                                     & 25781326                                    & 7369368                                     & 91089899                                    & 33150694                                    & 496705                                      & 22059168                                    & 1169432                                     & 990920                                      & 565789                                      & 594104                                     \\\\\n",
       "\t 2049641                                     & 3016002                                     & 24009708                                    & 5697172                                     & 93192388                                    & 29706880                                    & 522345                                      & 20838951                                    & 801170                                      & 1114655                                     & 467063                                      & 897053                                     \\\\\n",
       "\\end{tabular}\n"
      ],
      "text/markdown": [
       "\n",
       "X1 | X2 | X3 | X4 | X5 | X6 | X7 | X8 | X9 | X10 | X11 | X12 | \n",
       "|---|---|---|---|---|---|---|---|---|---|\n",
       "| Aguas residuales                            | Emisiones al aire                           | Equipos e instalaciones independientes      | Equipos e instalaciones integrados          | Gastos corrientes                           | Inversión total                             | Otros                                       | Protección de la biodiversidad y el paisaje | Protección del aire y el clima              | Residuos                                    | Ruidos y vibraciones                        | Suelos, aguas subterráneas y superficiales  | \n",
       "| 6949326                                     | 3981030                                     | 17965075                                    | 36977027                                    | 99006767                                    | 54942102                                    | 29417541                                    | 1872248                                     | 4581228                                     | 4289686                                     | 1300282                                     | 2550761                                     | \n",
       "| 2970893                                     | 5011815                                     | 61808066                                    | 48044669                                    | 92084075                                    | 109852735                                   | 38453052                                    | 3986368                                     | 50067483                                    | 5087282                                     | 675615                                      | 3600227                                     | \n",
       "| 6363843                                     | 3835664                                     | 25704185                                    | 24916748                                    | 100218980                                   | 50620933                                    | 12917271                                    | 16007628                                    | 2979434                                     | 7282385                                     | 735549                                      | 499159                                      | \n",
       "| 2382821                                     | 2096818                                     | 22801048                                    | 13720607                                    | 98436869                                    | 36521655                                    | 7207066                                     | 17997497                                    | 1441874                                     | 3784603                                     | 777239                                      | 833737                                      | \n",
       "| 2514053                                     | 2774798                                     | 22070611                                    | 8820691                                     | 92295024                                    | 30891302                                    | 2355189                                     | 16984170                                    | 1718060                                     | 1805115                                     | 616853                                      | 2123064                                     | \n",
       "| 1046192                                     | 3842565                                     | 26234839                                    | 7380856                                     | 88254392                                    | 33615695                                    | 1154467                                     | 24599443                                    | 439209                                      | 1751608                                     | 143289                                      | 638922                                      | \n",
       "| 4483657                                     | 7228016                                     | 27456552                                    | 10877530                                    | 95221165                                    | 38334082                                    | 535735                                      | 20906633                                    | 573202                                      | 3612856                                     | 215022                                      | 778961                                      | \n",
       "| 2395601                                     | 4878975                                     | 25781326                                    | 7369368                                     | 91089899                                    | 33150694                                    | 496705                                      | 22059168                                    | 1169432                                     | 990920                                      | 565789                                      | 594104                                      | \n",
       "| 2049641                                     | 3016002                                     | 24009708                                    | 5697172                                     | 93192388                                    | 29706880                                    | 522345                                      | 20838951                                    | 801170                                      | 1114655                                     | 467063                                      | 897053                                      | \n",
       "\n",
       "\n"
      ],
      "text/plain": [
       "   X1               X2                X3                                    \n",
       "1  Aguas residuales Emisiones al aire Equipos e instalaciones independientes\n",
       "2  6949326          3981030           17965075                              \n",
       "3  2970893          5011815           61808066                              \n",
       "4  6363843          3835664           25704185                              \n",
       "5  2382821          2096818           22801048                              \n",
       "6  2514053          2774798           22070611                              \n",
       "7  1046192          3842565           26234839                              \n",
       "8  4483657          7228016           27456552                              \n",
       "9  2395601          4878975           25781326                              \n",
       "10 2049641          3016002           24009708                              \n",
       "   X4                                 X5                X6             \n",
       "1  Equipos e instalaciones integrados Gastos corrientes Inversión total\n",
       "2  36977027                           99006767          54942102       \n",
       "3  48044669                           92084075          109852735      \n",
       "4  24916748                           100218980         50620933       \n",
       "5  13720607                           98436869          36521655       \n",
       "6  8820691                            92295024          30891302       \n",
       "7  7380856                            88254392          33615695       \n",
       "8  10877530                           95221165          38334082       \n",
       "9  7369368                            91089899          33150694       \n",
       "10 5697172                            93192388          29706880       \n",
       "   X7       X8                                         \n",
       "1  Otros    Protección de la biodiversidad y el paisaje\n",
       "2  29417541 1872248                                    \n",
       "3  38453052 3986368                                    \n",
       "4  12917271 16007628                                   \n",
       "5  7207066  17997497                                   \n",
       "6  2355189  16984170                                   \n",
       "7  1154467  24599443                                   \n",
       "8  535735   20906633                                   \n",
       "9  496705   22059168                                   \n",
       "10 522345   20838951                                   \n",
       "   X9                             X10      X11                 \n",
       "1  Protección del aire y el clima Residuos Ruidos y vibraciones\n",
       "2  4581228                        4289686  1300282             \n",
       "3  50067483                       5087282  675615              \n",
       "4  2979434                        7282385  735549              \n",
       "5  1441874                        3784603  777239              \n",
       "6  1718060                        1805115  616853              \n",
       "7  439209                         1751608  143289              \n",
       "8  573202                         3612856  215022              \n",
       "9  1169432                        990920   565789              \n",
       "10 801170                         1114655  467063              \n",
       "   X12                                       \n",
       "1  Suelos, aguas subterráneas y superficiales\n",
       "2  2550761                                   \n",
       "3  3600227                                   \n",
       "4  499159                                    \n",
       "5  833737                                    \n",
       "6  2123064                                   \n",
       "7  638922                                    \n",
       "8  778961                                    \n",
       "9  594104                                    \n",
       "10 897053                                    "
      ]
     },
     "metadata": {},
     "output_type": "display_data"
    }
   ],
   "source": [
    "# para referirnos a la primera fila del DF myExcelFileFirstSheet[,1]\n",
    "# quito espacios de 6 y de 3 en tres\n",
    "myExcelFileFirstSheet[,1]<-gsub(\"      \", \"\", myExcelFileFirstSheet[,1])\n",
    "myExcelFileFirstSheet[,1]<-gsub(\"   \", \"\", myExcelFileFirstSheet[,1])\n",
    "# quito Col1 y la X de los nombres de columna\n",
    "colnames(myExcelFileFirstSheet)<-c(\"concepto\",2008:2016)\n",
    "# y aquí está el DF \"limpio\"\n",
    "#myExcelFileFirstSheet\n",
    "\n",
    "# si queremos eliminar alguna fila\n",
    "# removeRowByIndex(myExcelFileFirstSheet,17)\n",
    "\n",
    "# mismas operaciones con la segunda hoja\n",
    "\n",
    "myExcelFileSecondSheet[,1]<-gsub(\"      \", \"\", myExcelFileSecondSheet[,1])\n",
    "myExcelFileSecondSheet[,1]<-gsub(\"   \", \"\", myExcelFileSecondSheet[,1])\n",
    "# quito Col1 y la X de los nombres de columna\n",
    "colnames(myExcelFileSecondSheet)<-c(\"concepto\",2008:2016)\n",
    "\n",
    "# sumo por filas, para plotear respecto al total\n",
    "myExcelFileFirstSheet<-aggregate(x = myExcelFileFirstSheet[c(\"2008\",\"2009\",\"2010\",\"2011\",\"2012\",\"2013\",\"2014\",\"2015\",\"2016\")],\n",
    "                       by = myExcelFileFirstSheet[c(\"concepto\")],\n",
    "                       FUN = sum)\n",
    "myExcelFileSecondSheet<-aggregate(x = myExcelFileSecondSheet[c(\"2008\",\"2009\",\"2010\",\"2011\",\"2012\",\"2013\",\"2014\",\"2015\",\"2016\")],\n",
    "                       by = myExcelFileSecondSheet[c(\"concepto\")],\n",
    "                       FUN = sum)\n",
    "\n",
    "df1 <- data.frame(matrix(unlist(myExcelFileFirstSheet), nrow=length(myExcelFileFirstSheet), byrow=T))\n",
    "\n"
   ]
  }
 ],
 "metadata": {
  "kernelspec": {
   "display_name": "R",
   "language": "R",
   "name": "ir"
  },
  "language_info": {
   "codemirror_mode": "r",
   "file_extension": ".r",
   "mimetype": "text/x-r-source",
   "name": "R",
   "pygments_lexer": "r",
   "version": "3.5.1"
  }
 },
 "nbformat": 4,
 "nbformat_minor": 2
}
