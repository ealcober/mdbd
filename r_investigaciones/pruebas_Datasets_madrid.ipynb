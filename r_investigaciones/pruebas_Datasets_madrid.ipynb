{
 "cells": [
  {
   "cell_type": "markdown",
   "metadata": {},
   "source": [
    "# setwd('C:/Users/ealcober/git/mdbd/datasets_madrid')\n",
    "seleccionar convenientemente la carpeta con las fuentes del proyecto\n",
    "\n"
   ]
  },
  {
   "cell_type": "markdown",
   "metadata": {},
   "source": [
    "En primer lugar procedo a presentar los datos"
   ]
  },
  {
   "cell_type": "code",
   "execution_count": 37,
   "metadata": {},
   "outputs": [],
   "source": [
    "setwd('C:/Users/ealcober/git/mdbd/sources_data')\n",
    "\n",
    "# para trabajar con ficheros excel\n",
    "if(!require(\"XLConnect\"))install.packages(\"XLConnect\") \n",
    "library(XLConnect)\n",
    "\n",
    "# Función para eliminar fila por índice\n",
    "removeRowByIndex <- function(x, row_index) {\n",
    "  nr <- nrow(x)\n",
    "  if (nr < row_index) {\n",
    "    print('row_index exceeds number of rows')\n",
    "  } else if (row_index == 1)\n",
    "  {\n",
    "    return(x[2:nr, ])\n",
    "  } else if (row_index == nr) {\n",
    "    return(x[1:(nr - 1), ])\n",
    "  } else {\n",
    "    return (x[c(1:(row_index - 1), (row_index + 1):nr), ])\n",
    "  }\n",
    "}\n",
    "\n",
    "# Funcion que convierte a 0's los NAs\n",
    "haz.cero.na=function(x){\n",
    "  ifelse(is.na(x),0,x)}"
   ]
  },
  {
   "cell_type": "code",
   "execution_count": 44,
   "metadata": {},
   "outputs": [],
   "source": [
    "# gasto de empresas en protección ambiental\n",
    "\n",
    "# Abre(si es posible) y carga el libro del fichero Excel \n",
    "gastoEmpresasProtAmbientalExcel<-loadWorkbook('anu1-3-7_mod.xls') \n",
    "# Lee los nombres de sus hojas de cálculo en un vector de tipo carácter\n",
    "myExcelFileSheetNames<-getSheets(gastoEmpresasProtAmbientalExcel)\n",
    "#Lee el contenido de la primera hoja de cálculo \n",
    "myExcelFileFirstSheet<- readWorksheet(gastoEmpresasProtAmbientalExcel,sheet=myExcelFileSheetNames[1])\n",
    "myExcelFileSecondSheet<- readWorksheet(gastoEmpresasProtAmbientalExcel,sheet=myExcelFileSheetNames[2])\n"
   ]
  },
  {
   "cell_type": "markdown",
   "metadata": {},
   "source": []
  },
  {
   "cell_type": "raw",
   "metadata": {},
   "source": []
  },
  {
   "cell_type": "code",
   "execution_count": 65,
   "metadata": {},
   "outputs": [
    {
     "data": {
      "text/plain": [
       "   concepto              2008               2009                2010          \n",
       " Length:12          Min.   : 1300282   Min.   :   675615   Min.   :   499159  \n",
       " Class :character   1st Qu.: 3623463   1st Qu.:  3889833   1st Qu.:  3621606  \n",
       " Mode  :character   Median : 5765277   Median : 21770167   Median : 10099828  \n",
       "                    Mean   :21986089   Mean   : 35136857   Mean   : 21006815  \n",
       "                    3rd Qu.:31307412   3rd Qu.: 53002629   3rd Qu.: 25113607  \n",
       "                    Max.   :99006767   Max.   :109852735   Max.   :100218980  \n",
       "      2011               2012               2013               2014         \n",
       " Min.   :  777239   Min.   :  616853   Min.   :  143289   Min.   :  215022  \n",
       " 1st Qu.: 1933082   1st Qu.: 2043577   1st Qu.:  944374   1st Qu.:  727521  \n",
       " Median : 5495834   Median : 2644426   Median : 2797086   Median : 5855836  \n",
       " Mean   :17333486   Mean   :15414078   Mean   :15758456   Mean   :17518618  \n",
       " 3rd Qu.:19198385   3rd Qu.:18255780   3rd Qu.:25008292   3rd Qu.:22544113  \n",
       " Max.   :98436869   Max.   :92295024   Max.   :88254392   Max.   :95221165  \n",
       "      2015               2016         \n",
       " Min.   :  496705   Min.   :  467063  \n",
       " 1st Qu.:  891716   1st Qu.:  873082  \n",
       " Median : 3637288   Median : 2532822  \n",
       " Mean   :15878498   Mean   :15192752  \n",
       " 3rd Qu.:22989708   3rd Qu.:21631640  \n",
       " Max.   :91089899   Max.   :93192388  "
      ]
     },
     "metadata": {},
     "output_type": "display_data"
    }
   ],
   "source": [
    "# para referirnos a la primera fila del DF myExcelFileFirstSheet[,1]\n",
    "# quito espacios de 6 y de 3 en tres\n",
    "myExcelFileFirstSheet[,1]<-gsub(\"      \", \"\", myExcelFileFirstSheet[,1])\n",
    "myExcelFileFirstSheet[,1]<-gsub(\"   \", \"\", myExcelFileFirstSheet[,1])\n",
    "# quito Col1 y la X de los nombres de columna\n",
    "colnames(myExcelFileFirstSheet)<-c(\"concepto\",2008:2016)\n",
    "# y aquí está el DF \"limpio\"\n",
    "#myExcelFileFirstSheet\n",
    "\n",
    "# si queremos eliminar alguna fila\n",
    "# removeRowByIndex(myExcelFileFirstSheet,17)\n",
    "\n",
    "# sumo por filas, para plotear respecto al total\n",
    "myExcelFileFirstSheet<-aggregate(x = myExcelFileFirstSheet[c(\"2008\",\"2009\",\"2010\",\"2011\",\"2012\",\"2013\",\"2014\",\"2015\",\"2016\")],\n",
    "                       by = myExcelFileFirstSheet[c(\"concepto\")],\n",
    "                       FUN = sum)\n",
    "\n",
    "\n",
    "summary(myExcelFileFirstSheet)\n"
   ]
  }
 ],
 "metadata": {
  "kernelspec": {
   "display_name": "R",
   "language": "R",
   "name": "ir"
  },
  "language_info": {
   "codemirror_mode": "r",
   "file_extension": ".r",
   "mimetype": "text/x-r-source",
   "name": "R",
   "pygments_lexer": "r",
   "version": "3.5.1"
  }
 },
 "nbformat": 4,
 "nbformat_minor": 2
}
