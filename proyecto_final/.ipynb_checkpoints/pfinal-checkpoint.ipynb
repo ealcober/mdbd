{
 "cells": [
  {
   "cell_type": "markdown",
   "metadata": {},
   "source": [
    "## Carga de datos y preparación del espacio de trabajo."
   ]
  },
  {
   "cell_type": "code",
   "execution_count": 25,
   "metadata": {},
   "outputs": [
    {
     "name": "stderr",
     "output_type": "stream",
     "text": [
      "Loading required package: XLConnect\n",
      "Warning message:\n",
      "\"package 'XLConnect' was built under R version 3.5.2\"Loading required package: XLConnectJars\n",
      "Warning message:\n",
      "\"package 'XLConnectJars' was built under R version 3.5.2\"XLConnect 0.2-15 by Mirai Solutions GmbH [aut],\n",
      "  Martin Studer [cre],\n",
      "  The Apache Software Foundation [ctb, cph] (Apache POI),\n",
      "  Graph Builder [ctb, cph] (Curvesapi Java library)\n",
      "http://www.mirai-solutions.com\n",
      "https://github.com/miraisolutions/xlconnect\n",
      "Loading required package: dplyr\n",
      "Warning message:\n",
      "\"package 'dplyr' was built under R version 3.5.2\"\n",
      "Attaching package: 'dplyr'\n",
      "\n",
      "The following objects are masked from 'package:stats':\n",
      "\n",
      "    filter, lag\n",
      "\n",
      "The following objects are masked from 'package:base':\n",
      "\n",
      "    intersect, setdiff, setequal, union\n",
      "\n",
      "Loading required package: ggplot2\n",
      "Warning message:\n",
      "\"package 'ggplot2' was built under R version 3.5.2\"Loading required package: RColorBrewer\n",
      "Warning message:\n",
      "\"package 'RColorBrewer' was built under R version 3.5.2\""
     ]
    }
   ],
   "source": [
    "# Preparamos el espacio de trabajo\n",
    "setwd('C:/Users/ealcober/git/mdbd/proyecto_final')\n",
    "\n",
    "# para trabajar con ficheros excel\n",
    "if(!require(\"XLConnect\"))install.packages(\"XLConnect\") \n",
    "library(XLConnect)\n",
    "\n",
    "# dep 1\n",
    "if(!require(\"dplyr\"))install.packages(\"dplyr\") \n",
    "library(dplyr)\n",
    "\n",
    "# dep 2\n",
    "if(!require(\"ggplot2\"))install.packages(\"ggplot2\") \n",
    "library(ggplot2)\n",
    "\n",
    "# dep 3\n",
    "if(!require(\"RColorBrewer\"))install.packages(\"RColorBrewer\") \n",
    "library(RColorBrewer)\n",
    "\n",
    "# Función para eliminar fila por índice\n",
    "removeRowByIndex <- function(x, row_index) {\n",
    "  nr <- nrow(x)\n",
    "  if (nr < row_index) {\n",
    "    print('row_index exceeds number of rows')\n",
    "  } else if (row_index == 1)\n",
    "  {\n",
    "    return(x[2:nr, ])\n",
    "  } else if (row_index == nr) {\n",
    "    return(x[1:(nr - 1), ])\n",
    "  } else {\n",
    "    return (x[c(1:(row_index - 1), (row_index + 1):nr), ])\n",
    "  }\n",
    "}\n",
    "\n",
    "# Funcion que convierte a 0's los NAs\n",
    "haz.cero.na=function(x){\n",
    "  ifelse(is.na(x),0,x)}"
   ]
  },
  {
   "cell_type": "markdown",
   "metadata": {},
   "source": [
    "# Nuestra hipótesis inicial:\n",
    "## Queremos encontrar, si existe, una relación entre el nivel educativo de la población y el nivel de uso de plástico y su gestión.\n",
    "\n",
    "# Comenzamos exponiendo brevemente unas cifras que ilustra la Producción de plástico global en Toneladas"
   ]
  },
  {
   "cell_type": "code",
   "execution_count": 26,
   "metadata": {},
   "outputs": [
    {
     "data": {
      "text/html": [
       "<table>\n",
       "<thead><tr><th></th><th scope=col>Year</th><th scope=col>Global.plastics.production..million.tonnes...tonnes.</th></tr></thead>\n",
       "<tbody>\n",
       "\t<tr><th scope=row>61</th><td>2010     </td><td>313000000</td></tr>\n",
       "\t<tr><th scope=row>62</th><td>2011     </td><td>325000000</td></tr>\n",
       "\t<tr><th scope=row>63</th><td>2012     </td><td>338000000</td></tr>\n",
       "\t<tr><th scope=row>64</th><td>2013     </td><td>352000000</td></tr>\n",
       "\t<tr><th scope=row>65</th><td>2014     </td><td>367000000</td></tr>\n",
       "\t<tr><th scope=row>66</th><td>2015     </td><td>381000000</td></tr>\n",
       "</tbody>\n",
       "</table>\n"
      ],
      "text/latex": [
       "\\begin{tabular}{r|ll}\n",
       "  & Year & Global.plastics.production..million.tonnes...tonnes.\\\\\n",
       "\\hline\n",
       "\t61 & 2010      & 313000000\\\\\n",
       "\t62 & 2011      & 325000000\\\\\n",
       "\t63 & 2012      & 338000000\\\\\n",
       "\t64 & 2013      & 352000000\\\\\n",
       "\t65 & 2014      & 367000000\\\\\n",
       "\t66 & 2015      & 381000000\\\\\n",
       "\\end{tabular}\n"
      ],
      "text/markdown": [
       "\n",
       "| <!--/--> | Year | Global.plastics.production..million.tonnes...tonnes. | \n",
       "|---|---|---|---|---|---|\n",
       "| 61 | 2010      | 313000000 | \n",
       "| 62 | 2011      | 325000000 | \n",
       "| 63 | 2012      | 338000000 | \n",
       "| 64 | 2013      | 352000000 | \n",
       "| 65 | 2014      | 367000000 | \n",
       "| 66 | 2015      | 381000000 | \n",
       "\n",
       "\n"
      ],
      "text/plain": [
       "   Year Global.plastics.production..million.tonnes...tonnes.\n",
       "61 2010 313000000                                           \n",
       "62 2011 325000000                                           \n",
       "63 2012 338000000                                           \n",
       "64 2013 352000000                                           \n",
       "65 2014 367000000                                           \n",
       "66 2015 381000000                                           "
      ]
     },
     "metadata": {},
     "output_type": "display_data"
    },
    {
     "data": {
      "image/png": "[encoded data removed]",
      "text/plain": [
       "plot without title"
      ]
     },
     "metadata": {},
     "output_type": "display_data"
    }
   ],
   "source": [
    "\n",
    "gpp<-read.csv('sources/global-plastics-production.csv',header=TRUE,sep=\",\" , quote=\"\\\"\",dec=\".\",fill=TRUE)\n",
    "sch<-read.csv('sources/mean-years-of-schooling-selected-countries.csv',header=TRUE,sep=\",\" , quote=\"\\\"\",dec=\".\",fill=TRUE)\n",
    "pFate<-read.csv('sources/global-plastic-fate.csv',header=TRUE,sep=\",\" , quote=\"\\\"\",dec=\".\",fill=TRUE,na.strings=\"0\", as.is=T)\n",
    "\n",
    "\n",
    "gpp$Entity <- NULL\n",
    "gpp$Code <- NULL\n",
    "\n",
    "# tabla\n",
    "tail(gpp)\n",
    "#Produccion de plastico global \n",
    "colnames(gpp) <- c(\"Year\", \"Prod de plastico global\")\n",
    "\n",
    "schmean<-aggregate.data.frame(sch$Total_YearsSchool.â...Lee.Lee..2016...years. ,list(sch$Year), FUN=mean)\n",
    "colnames(schmean) <- c(\"Year\", \"mean escolarizados\")\n",
    "prueba <- merge(gpp, schmean, by.y=\"Year\", sort = TRUE)\n",
    "prueba$`Prod de plastico global` <- prueba$`Prod de plastico global` / 10000000\n",
    "\n",
    "plot(prueba$Year,prueba$`Prod de plastico global`,type=\"l\",col=\"blue\", \n",
    "     xlim=c(1960,2010), xlab=\"Years\", ylab=\"Value\")\n",
    "lines(prueba$Year,prueba$`mean escolarizados`,col=\"red\")\n",
    "\n",
    "\n",
    "\n",
    "legend(\"bottomleft\", legend=c(\"Toneladas de plástico producidas\", \"Media de años de escolarización p/c\"),\n",
    "      col=c(\"blue\", \"red\"),\n",
    "      pch=c(20,20),\n",
    "       inset=c(0.005,0.83)\n",
    "      )\n"
   ]
  },
  {
   "cell_type": "markdown",
   "metadata": {},
   "source": [
    "# vamos a buscar una relación entre ambas variables"
   ]
  },
  {
   "cell_type": "code",
   "execution_count": 91,
   "metadata": {
    "scrolled": false
   },
   "outputs": [
    {
     "data": {},
     "metadata": {},
     "output_type": "display_data"
    },
    {
     "data": {
      "image/png": "[encoded data removed]",
      "text/plain": [
       "plot without title"
      ]
     },
     "metadata": {},
     "output_type": "display_data"
    }
   ],
   "source": [
    "\n",
    "juntas<-merge(gpp, sch, by.y=\"Year\")\n",
    "\n",
    "names(juntas)<-(c(\"Year\",\"ProdPlasticoGlobal\",\"Entity\",\"Code\",\"MeanSchoolYears\"))\n",
    "juntas$Entity<-NULL\n",
    "juntas$Code <-NULL\n",
    "juntas %>%\n",
    "    select(Year, ProdPlasticoGlobal, MeanSchoolYears) %>%\n",
    "    group_by(Year) %>%\n",
    "    summarize(MeanMeanSchYrs=mean(MeanSchoolYears), MeanProdPlastGlob=mean(ProdPlasticoGlobal)) -> juntas2\n",
    "#   summarize(res2=mean(ProdPlasticoGlobal)) \n",
    "\n",
    "\n",
    "\n",
    "\n",
    " ggplot() + geom_point(data=juntas2, aes(x=MeanMeanSchYrs, y=MeanProdPlastGlob))"
   ]
  },
  {
   "cell_type": "code",
   "execution_count": 92,
   "metadata": {},
   "outputs": [
    {
     "data": {
      "text/html": [
       "<ol class=list-inline>\n",
       "\t<li>'1950'</li>\n",
       "\t<li>'1955'</li>\n",
       "\t<li>'1960'</li>\n",
       "\t<li>'1965'</li>\n",
       "\t<li>'1970'</li>\n",
       "\t<li>'1975'</li>\n",
       "\t<li>'1980'</li>\n",
       "\t<li>'1985'</li>\n",
       "\t<li>'1990'</li>\n",
       "\t<li>'1995'</li>\n",
       "\t<li>'2000'</li>\n",
       "\t<li>'2005'</li>\n",
       "\t<li>'2010'</li>\n",
       "</ol>\n"
      ],
      "text/latex": [
       "\\begin{enumerate*}\n",
       "\\item '1950'\n",
       "\\item '1955'\n",
       "\\item '1960'\n",
       "\\item '1965'\n",
       "\\item '1970'\n",
       "\\item '1975'\n",
       "\\item '1980'\n",
       "\\item '1985'\n",
       "\\item '1990'\n",
       "\\item '1995'\n",
       "\\item '2000'\n",
       "\\item '2005'\n",
       "\\item '2010'\n",
       "\\end{enumerate*}\n"
      ],
      "text/markdown": [
       "1. '1950'\n",
       "2. '1955'\n",
       "3. '1960'\n",
       "4. '1965'\n",
       "5. '1970'\n",
       "6. '1975'\n",
       "7. '1980'\n",
       "8. '1985'\n",
       "9. '1990'\n",
       "10. '1995'\n",
       "11. '2000'\n",
       "12. '2005'\n",
       "13. '2010'\n",
       "\n",
       "\n"
      ],
      "text/plain": [
       " [1] \"1950\" \"1955\" \"1960\" \"1965\" \"1970\" \"1975\" \"1980\" \"1985\" \"1990\" \"1995\"\n",
       "[11] \"2000\" \"2005\" \"2010\""
      ]
     },
     "metadata": {},
     "output_type": "display_data"
    },
    {
     "ename": "ERROR",
     "evalue": "Error in model.frame.default(formula = unlist(juntas2, use.names = FALSE) ~ : variable lengths differ (found for 'years')\n",
     "output_type": "error",
     "traceback": [
      "Error in model.frame.default(formula = unlist(juntas2, use.names = FALSE) ~ : variable lengths differ (found for 'years')\nTraceback:\n",
      "1. lm(unlist(juntas2, use.names = FALSE) ~ years)",
      "2. eval(mf, parent.frame())",
      "3. eval(mf, parent.frame())",
      "4. stats::model.frame(formula = unlist(juntas2, use.names = FALSE) ~ \n .     years, drop.unused.levels = TRUE)",
      "5. model.frame.default(formula = unlist(juntas2, use.names = FALSE) ~ \n .     years, drop.unused.levels = TRUE)"
     ]
    }
   ],
   "source": [
    "years<-c(\"1950\",\"1955\",\"1960\",\"1965\",\"1970\",\"1975\",\"1980\",\"1985\",\"1990\",\"1995\",\"2000\",\"2005\",\"2010\")\n",
    "years\n",
    "fit <-lm(unlist(juntas2, use.names=FALSE) ~ years)\n",
    "\n",
    "layout(matrix(c(1,2,3,4), 2, 2, byrow = TRUE))\n",
    "plot(fit)"
   ]
  }
 ],
 "metadata": {
  "kernelspec": {
   "display_name": "R",
   "language": "R",
   "name": "ir"
  },
  "language_info": {
   "codemirror_mode": "r",
   "file_extension": ".r",
   "mimetype": "text/x-r-source",
   "name": "R",
   "pygments_lexer": "r",
   "version": "3.5.1"
  }
 },
 "nbformat": 4,
 "nbformat_minor": 2
}
