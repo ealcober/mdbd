{
 "cells": [
  {
   "cell_type": "markdown",
   "metadata": {},
   "source": [
    "# Carga de datos y preparación del espacio de trabajo.\n",
    "## Cargamos las bibliotecas / librerías que utilizamos\n",
    "## Definimos las funciones user-defined que hemos necesitado"
   ]
  },
  {
   "cell_type": "code",
   "execution_count": 2,
   "metadata": {},
   "outputs": [
    {
     "name": "stderr",
     "output_type": "stream",
     "text": [
      "Loading required package: XLConnect\n",
      "Warning message:\n",
      "\"package 'XLConnect' was built under R version 3.5.2\"Loading required package: XLConnectJars\n",
      "Warning message:\n",
      "\"package 'XLConnectJars' was built under R version 3.5.2\"XLConnect 0.2-15 by Mirai Solutions GmbH [aut],\n",
      "  Martin Studer [cre],\n",
      "  The Apache Software Foundation [ctb, cph] (Apache POI),\n",
      "  Graph Builder [ctb, cph] (Curvesapi Java library)\n",
      "http://www.mirai-solutions.com\n",
      "https://github.com/miraisolutions/xlconnect\n",
      "Loading required package: dplyr\n",
      "Warning message:\n",
      "\"package 'dplyr' was built under R version 3.5.2\"\n",
      "Attaching package: 'dplyr'\n",
      "\n",
      "The following objects are masked from 'package:stats':\n",
      "\n",
      "    filter, lag\n",
      "\n",
      "The following objects are masked from 'package:base':\n",
      "\n",
      "    intersect, setdiff, setequal, union\n",
      "\n",
      "Loading required package: ggplot2\n",
      "Warning message:\n",
      "\"package 'ggplot2' was built under R version 3.5.2\"Loading required package: caTools\n",
      "Warning message:\n",
      "\"package 'caTools' was built under R version 3.5.3\"Loading required package: RColorBrewer\n",
      "Warning message:\n",
      "\"package 'RColorBrewer' was built under R version 3.5.2\""
     ]
    }
   ],
   "source": [
    "# Preparamos el espacio de trabajo\n",
    "# setwd('/Users/agus/Downloads/mdbd-master-3/proyecto_final')\n",
    "setwd('C:/Users/ealcober/git/mdbd/mdbd/proyecto_final')\n",
    "# para trabajar con ficheros excel\n",
    "if(!require(\"XLConnect\"))install.packages(\"XLConnect\") \n",
    "library(XLConnect)\n",
    "\n",
    "# dep 1\n",
    "if(!require(\"dplyr\"))install.packages(\"dplyr\") \n",
    "library(dplyr)\n",
    "\n",
    "# dep 2\n",
    "if(!require(\"ggplot2\"))install.packages(\"ggplot2\") \n",
    "library(ggplot2)\n",
    "\n",
    "if(!require(\"caTools\"))install.packages(\"caTools\", repos = \"http://cran.us.r-project.org\")\n",
    "library(caTools)\n",
    "\n",
    "# dep 3\n",
    "if(!require(\"RColorBrewer\"))install.packages(\"RColorBrewer\") \n",
    "library(RColorBrewer)\n",
    "\n",
    "# Función para eliminar fila por índice\n",
    "removeRowByIndex <- function(x, row_index) {\n",
    "  nr <- nrow(x)\n",
    "  if (nr < row_index) {\n",
    "    print('row_index exceeds number of rows')\n",
    "  } else if (row_index == 1)\n",
    "  {\n",
    "    return(x[2:nr, ])\n",
    "  } else if (row_index == nr) {\n",
    "    return(x[1:(nr - 1), ])\n",
    "  } else {\n",
    "    return (x[c(1:(row_index - 1), (row_index + 1):nr), ])\n",
    "  }\n",
    "}\n",
    "\n",
    "# Funcion que convierte a 0's los NAs\n",
    "haz.cero.na=function(x){\n",
    "  ifelse(is.na(x),0,x)}"
   ]
  },
  {
   "cell_type": "markdown",
   "metadata": {},
   "source": [
    "# Nuestra hipótesis inicial:\n",
    "\n",
    "## Queremos encontrar, si existe, una relación entre el nivel educativo de la población y el nivel de uso de plástico y su gestión en el rango de años 1960-2010.\n",
    "\n",
    "## De forma intuitiva, ante el incremento del efecto invernadero y la cantidad de plástico producida industrialmente, una población con mejor formación y educación habría de ser más eficiente en el tratamiento de residuos, o en sus elecciones a la hora de escoger en sus compras, otro tipo de residuos no plásticos.\n",
    "\n",
    "# Comenzamos exponiendo brevemente unas cifras que ilustran la Producción de plástico global en Toneladas, en serie temporal, sobre la gráfica de \"media de años que un adulto pasa escolarizado\" a lo largo de los años estudiados."
   ]
  },
  {
   "cell_type": "code",
   "execution_count": 19,
   "metadata": {},
   "outputs": [
    {
     "data": {
      "text/html": [
       "<table>\n",
       "<thead><tr><th></th><th scope=col>Year</th><th scope=col>Prod de plastico global</th></tr></thead>\n",
       "<tbody>\n",
       "\t<tr><th scope=row>61</th><td>2010     </td><td>313000000</td></tr>\n",
       "\t<tr><th scope=row>62</th><td>2011     </td><td>325000000</td></tr>\n",
       "\t<tr><th scope=row>63</th><td>2012     </td><td>338000000</td></tr>\n",
       "\t<tr><th scope=row>64</th><td>2013     </td><td>352000000</td></tr>\n",
       "\t<tr><th scope=row>65</th><td>2014     </td><td>367000000</td></tr>\n",
       "\t<tr><th scope=row>66</th><td>2015     </td><td>381000000</td></tr>\n",
       "</tbody>\n",
       "</table>\n"
      ],
      "text/latex": [
       "\\begin{tabular}{r|ll}\n",
       "  & Year & Prod de plastico global\\\\\n",
       "\\hline\n",
       "\t61 & 2010      & 313000000\\\\\n",
       "\t62 & 2011      & 325000000\\\\\n",
       "\t63 & 2012      & 338000000\\\\\n",
       "\t64 & 2013      & 352000000\\\\\n",
       "\t65 & 2014      & 367000000\\\\\n",
       "\t66 & 2015      & 381000000\\\\\n",
       "\\end{tabular}\n"
      ],
      "text/markdown": [
       "\n",
       "| <!--/--> | Year | Prod de plastico global | \n",
       "|---|---|---|---|---|---|\n",
       "| 61 | 2010      | 313000000 | \n",
       "| 62 | 2011      | 325000000 | \n",
       "| 63 | 2012      | 338000000 | \n",
       "| 64 | 2013      | 352000000 | \n",
       "| 65 | 2014      | 367000000 | \n",
       "| 66 | 2015      | 381000000 | \n",
       "\n",
       "\n"
      ],
      "text/plain": [
       "   Year Prod de plastico global\n",
       "61 2010 313000000              \n",
       "62 2011 325000000              \n",
       "63 2012 338000000              \n",
       "64 2013 352000000              \n",
       "65 2014 367000000              \n",
       "66 2015 381000000              "
      ]
     },
     "metadata": {},
     "output_type": "display_data"
    },
    {
     "data": {
      "text/html": [
       "<table>\n",
       "<thead><tr><th></th><th scope=col>Entity</th><th scope=col>Code</th><th scope=col>Year</th><th scope=col>TotalYearsAtSchool</th></tr></thead>\n",
       "<tbody>\n",
       "\t<tr><th scope=row>3214</th><td>Zimbabwe</td><td>ZWE     </td><td>1985    </td><td>4.84    </td></tr>\n",
       "\t<tr><th scope=row>3215</th><td>Zimbabwe</td><td>ZWE     </td><td>1990    </td><td>5.97    </td></tr>\n",
       "\t<tr><th scope=row>3216</th><td>Zimbabwe</td><td>ZWE     </td><td>1995    </td><td>6.85    </td></tr>\n",
       "\t<tr><th scope=row>3217</th><td>Zimbabwe</td><td>ZWE     </td><td>2000    </td><td>7.26    </td></tr>\n",
       "\t<tr><th scope=row>3218</th><td>Zimbabwe</td><td>ZWE     </td><td>2005    </td><td>7.65    </td></tr>\n",
       "\t<tr><th scope=row>3219</th><td>Zimbabwe</td><td>ZWE     </td><td>2010    </td><td>7.86    </td></tr>\n",
       "</tbody>\n",
       "</table>\n"
      ],
      "text/latex": [
       "\\begin{tabular}{r|llll}\n",
       "  & Entity & Code & Year & TotalYearsAtSchool\\\\\n",
       "\\hline\n",
       "\t3214 & Zimbabwe & ZWE      & 1985     & 4.84    \\\\\n",
       "\t3215 & Zimbabwe & ZWE      & 1990     & 5.97    \\\\\n",
       "\t3216 & Zimbabwe & ZWE      & 1995     & 6.85    \\\\\n",
       "\t3217 & Zimbabwe & ZWE      & 2000     & 7.26    \\\\\n",
       "\t3218 & Zimbabwe & ZWE      & 2005     & 7.65    \\\\\n",
       "\t3219 & Zimbabwe & ZWE      & 2010     & 7.86    \\\\\n",
       "\\end{tabular}\n"
      ],
      "text/markdown": [
       "\n",
       "| <!--/--> | Entity | Code | Year | TotalYearsAtSchool | \n",
       "|---|---|---|---|---|---|\n",
       "| 3214 | Zimbabwe | ZWE      | 1985     | 4.84     | \n",
       "| 3215 | Zimbabwe | ZWE      | 1990     | 5.97     | \n",
       "| 3216 | Zimbabwe | ZWE      | 1995     | 6.85     | \n",
       "| 3217 | Zimbabwe | ZWE      | 2000     | 7.26     | \n",
       "| 3218 | Zimbabwe | ZWE      | 2005     | 7.65     | \n",
       "| 3219 | Zimbabwe | ZWE      | 2010     | 7.86     | \n",
       "\n",
       "\n"
      ],
      "text/plain": [
       "     Entity   Code Year TotalYearsAtSchool\n",
       "3214 Zimbabwe ZWE  1985 4.84              \n",
       "3215 Zimbabwe ZWE  1990 5.97              \n",
       "3216 Zimbabwe ZWE  1995 6.85              \n",
       "3217 Zimbabwe ZWE  2000 7.26              \n",
       "3218 Zimbabwe ZWE  2005 7.65              \n",
       "3219 Zimbabwe ZWE  2010 7.86              "
      ]
     },
     "metadata": {},
     "output_type": "display_data"
    },
    {
     "data": {
      "image/png": "[encoded data removed]",
      "text/plain": [
       "plot without title"
      ]
     },
     "metadata": {},
     "output_type": "display_data"
    }
   ],
   "source": [
    "\n",
    "gpp<-read.csv('sources/global-plastics-production.csv',header=TRUE,sep=\",\" , quote=\"\\\"\",dec=\".\",fill=TRUE)\n",
    "sch<-read.csv('sources/mean-years-of-schooling-selected-countries.csv',header=TRUE,sep=\",\" , quote=\"\\\"\",dec=\".\",fill=TRUE)\n",
    "\n",
    "gpp$Entity <- NULL\n",
    "gpp$Code <- NULL\n",
    "\n",
    "# Arreglamos los nombres de las variables \n",
    "colnames(gpp) <- c(\"Year\", \"Prod de plastico global\")\n",
    "colnames(sch) <- c(\"Entity\", \"Code\", \"Year\", \"TotalYearsAtSchool\")\n",
    "\n",
    "# Sumamos por año, calculando la media de años que pasa escolarizada cada persona\n",
    "schmean<-aggregate.data.frame(sch$TotalYearsAtSchool ,list(sch$Year), FUN=mean)\n",
    "colnames(schmean) <- c(\"Year\", \"mean escolarizados\")\n",
    "prueba <- merge(gpp, schmean, by.y=\"Year\", sort = TRUE)\n",
    "\n",
    "# Dividimos las cantidades a x10 toneladas (1 unidad son 10 toneladas) por proporcionalidad con la otra magnitud\n",
    "prueba$`Prod de plastico global` <- prueba$`Prod de plastico global` / 10000000\n",
    "\n",
    "# Imprimimos la tabla y el gráfico con su leyenda correspondiente.\n",
    "# Muestra de ambas tablas\n",
    "tail(gpp)\n",
    "tail(sch)\n",
    "plot(prueba$Year,prueba$`Prod de plastico global`,type=\"l\",col=\"blue\", \n",
    "     xlim=c(1960,2010), xlab=\"Years\", ylab=\"Value\")\n",
    "lines(prueba$Year,prueba$`mean escolarizados`,col=\"red\")\n",
    "\n",
    "legend(\"bottomleft\", legend=c(\"Toneladas de plástico producidas\", \"Media de años de escolarización p/c\"),\n",
    "      col=c(\"blue\", \"red\"),\n",
    "      pch=c(20,20),\n",
    "       inset=c(0.005,0.83)\n",
    "      )\n",
    "\n"
   ]
  },
  {
   "cell_type": "markdown",
   "metadata": {},
   "source": [
    "# vamos a buscar una relación entre ambas variables, colocándolas en ambos ejes respectivos x e y en una gráfica de 2d."
   ]
  },
  {
   "cell_type": "code",
   "execution_count": 63,
   "metadata": {},
   "outputs": [
    {
     "data": {
      "text/html": [
       "<table>\n",
       "<thead><tr><th scope=col>Prod de plastico global</th><th scope=col>mean escolarizados</th></tr></thead>\n",
       "<tbody>\n",
       "\t<tr><td>  2000000</td><td>3.026036 </td></tr>\n",
       "\t<tr><td>  4000000</td><td>3.253243 </td></tr>\n",
       "\t<tr><td>  8000000</td><td>3.516486 </td></tr>\n",
       "\t<tr><td> 17000000</td><td>3.878198 </td></tr>\n",
       "\t<tr><td> 35000000</td><td>4.411892 </td></tr>\n",
       "\t<tr><td> 46000000</td><td>4.949279 </td></tr>\n",
       "\t<tr><td> 70000000</td><td>5.547838 </td></tr>\n",
       "\t<tr><td> 90000000</td><td>6.095315 </td></tr>\n",
       "\t<tr><td>120000000</td><td>6.636126 </td></tr>\n",
       "\t<tr><td>156000000</td><td>7.155495 </td></tr>\n",
       "\t<tr><td>213000000</td><td>7.612883 </td></tr>\n",
       "\t<tr><td>263000000</td><td>8.139279 </td></tr>\n",
       "\t<tr><td>313000000</td><td>8.607477 </td></tr>\n",
       "</tbody>\n",
       "</table>\n"
      ],
      "text/latex": [
       "\\begin{tabular}{r|ll}\n",
       " Prod de plastico global & mean escolarizados\\\\\n",
       "\\hline\n",
       "\t   2000000 & 3.026036 \\\\\n",
       "\t   4000000 & 3.253243 \\\\\n",
       "\t   8000000 & 3.516486 \\\\\n",
       "\t  17000000 & 3.878198 \\\\\n",
       "\t  35000000 & 4.411892 \\\\\n",
       "\t  46000000 & 4.949279 \\\\\n",
       "\t  70000000 & 5.547838 \\\\\n",
       "\t  90000000 & 6.095315 \\\\\n",
       "\t 120000000 & 6.636126 \\\\\n",
       "\t 156000000 & 7.155495 \\\\\n",
       "\t 213000000 & 7.612883 \\\\\n",
       "\t 263000000 & 8.139279 \\\\\n",
       "\t 313000000 & 8.607477 \\\\\n",
       "\\end{tabular}\n"
      ],
      "text/markdown": [
       "\n",
       "Prod de plastico global | mean escolarizados | \n",
       "|---|---|---|---|---|---|---|---|---|---|---|---|---|\n",
       "|   2000000 | 3.026036  | \n",
       "|   4000000 | 3.253243  | \n",
       "|   8000000 | 3.516486  | \n",
       "|  17000000 | 3.878198  | \n",
       "|  35000000 | 4.411892  | \n",
       "|  46000000 | 4.949279  | \n",
       "|  70000000 | 5.547838  | \n",
       "|  90000000 | 6.095315  | \n",
       "| 120000000 | 6.636126  | \n",
       "| 156000000 | 7.155495  | \n",
       "| 213000000 | 7.612883  | \n",
       "| 263000000 | 8.139279  | \n",
       "| 313000000 | 8.607477  | \n",
       "\n",
       "\n"
      ],
      "text/plain": [
       "   Prod de plastico global mean escolarizados\n",
       "1    2000000               3.026036          \n",
       "2    4000000               3.253243          \n",
       "3    8000000               3.516486          \n",
       "4   17000000               3.878198          \n",
       "5   35000000               4.411892          \n",
       "6   46000000               4.949279          \n",
       "7   70000000               5.547838          \n",
       "8   90000000               6.095315          \n",
       "9  120000000               6.636126          \n",
       "10 156000000               7.155495          \n",
       "11 213000000               7.612883          \n",
       "12 263000000               8.139279          \n",
       "13 313000000               8.607477          "
      ]
     },
     "metadata": {},
     "output_type": "display_data"
    },
    {
     "data": {},
     "metadata": {},
     "output_type": "display_data"
    },
    {
     "data": {
      "image/png": "[encoded data removed]",
      "text/plain": [
       "plot without title"
      ]
     },
     "metadata": {},
     "output_type": "display_data"
    }
   ],
   "source": [
    "# agrupación de ambas tablas por año\n",
    "prueba <- merge(gpp, schmean, by.y=\"Year\", sort = TRUE)\n",
    "\n",
    "\n",
    "\n",
    "prueba<-prueba[,-1]\n",
    "prueba\n",
    "colnames(prueba) <- c('y', 'x')\n",
    "ggplot() + geom_point(data = prueba, aes(x = prueba$x, y = prueba$y)) + \n",
    "  xlab(\"Prod. Plástico Global (Variable Independiente)\") + \n",
    "  ylab(\"Media años escolarización/persona (Variable Dependiente)\") + \n",
    "  ggtitle(\"Relación entre ambas variables\")"
   ]
  },
  {
   "cell_type": "markdown",
   "metadata": {},
   "source": [
    "# De forma contraria a como esperábamos la proporción aumenta:\n",
    "# A lo largo de los años ha ido aumentando el tiempo medio que una persona pasa escolarizada en su vida, y proporcionalmente a éste, la cantidad de plástico total producido en esos años.\n",
    "\n",
    "# Vamos a tratar de aproximarnos para predicciones posteriores mediante regresión: partimos el conjunto de nuestros datos en 70% prueba y 30% entrenamiento\n"
   ]
  },
  {
   "cell_type": "code",
   "execution_count": 97,
   "metadata": {},
   "outputs": [
    {
     "data": {
      "text/html": [
       "<table>\n",
       "<thead><tr><th></th><th scope=col>y</th><th scope=col>x</th></tr></thead>\n",
       "<tbody>\n",
       "\t<tr><th scope=row>1</th><td>  2000000</td><td>3.026036 </td></tr>\n",
       "\t<tr><th scope=row>3</th><td>  8000000</td><td>3.516486 </td></tr>\n",
       "\t<tr><th scope=row>8</th><td> 90000000</td><td>6.095315 </td></tr>\n",
       "\t<tr><th scope=row>13</th><td>313000000</td><td>8.607477 </td></tr>\n",
       "</tbody>\n",
       "</table>\n"
      ],
      "text/latex": [
       "\\begin{tabular}{r|ll}\n",
       "  & y & x\\\\\n",
       "\\hline\n",
       "\t1 &   2000000 & 3.026036 \\\\\n",
       "\t3 &   8000000 & 3.516486 \\\\\n",
       "\t8 &  90000000 & 6.095315 \\\\\n",
       "\t13 & 313000000 & 8.607477 \\\\\n",
       "\\end{tabular}\n"
      ],
      "text/markdown": [
       "\n",
       "| <!--/--> | y | x | \n",
       "|---|---|---|---|\n",
       "| 1 |   2000000 | 3.026036  | \n",
       "| 3 |   8000000 | 3.516486  | \n",
       "| 8 |  90000000 | 6.095315  | \n",
       "| 13 | 313000000 | 8.607477  | \n",
       "\n",
       "\n"
      ],
      "text/plain": [
       "   y         x       \n",
       "1    2000000 3.026036\n",
       "3    8000000 3.516486\n",
       "8   90000000 6.095315\n",
       "13 313000000 8.607477"
      ]
     },
     "metadata": {},
     "output_type": "display_data"
    },
    {
     "data": {
      "text/html": [
       "<table>\n",
       "<thead><tr><th></th><th scope=col>y</th><th scope=col>x</th></tr></thead>\n",
       "<tbody>\n",
       "\t<tr><th scope=row>2</th><td>  4000000</td><td>3.253243 </td></tr>\n",
       "\t<tr><th scope=row>4</th><td> 17000000</td><td>3.878198 </td></tr>\n",
       "\t<tr><th scope=row>5</th><td> 35000000</td><td>4.411892 </td></tr>\n",
       "\t<tr><th scope=row>6</th><td> 46000000</td><td>4.949279 </td></tr>\n",
       "\t<tr><th scope=row>7</th><td> 70000000</td><td>5.547838 </td></tr>\n",
       "\t<tr><th scope=row>9</th><td>120000000</td><td>6.636126 </td></tr>\n",
       "\t<tr><th scope=row>10</th><td>156000000</td><td>7.155495 </td></tr>\n",
       "\t<tr><th scope=row>11</th><td>213000000</td><td>7.612883 </td></tr>\n",
       "\t<tr><th scope=row>12</th><td>263000000</td><td>8.139279 </td></tr>\n",
       "</tbody>\n",
       "</table>\n"
      ],
      "text/latex": [
       "\\begin{tabular}{r|ll}\n",
       "  & y & x\\\\\n",
       "\\hline\n",
       "\t2 &   4000000 & 3.253243 \\\\\n",
       "\t4 &  17000000 & 3.878198 \\\\\n",
       "\t5 &  35000000 & 4.411892 \\\\\n",
       "\t6 &  46000000 & 4.949279 \\\\\n",
       "\t7 &  70000000 & 5.547838 \\\\\n",
       "\t9 & 120000000 & 6.636126 \\\\\n",
       "\t10 & 156000000 & 7.155495 \\\\\n",
       "\t11 & 213000000 & 7.612883 \\\\\n",
       "\t12 & 263000000 & 8.139279 \\\\\n",
       "\\end{tabular}\n"
      ],
      "text/markdown": [
       "\n",
       "| <!--/--> | y | x | \n",
       "|---|---|---|---|---|---|---|---|---|\n",
       "| 2 |   4000000 | 3.253243  | \n",
       "| 4 |  17000000 | 3.878198  | \n",
       "| 5 |  35000000 | 4.411892  | \n",
       "| 6 |  46000000 | 4.949279  | \n",
       "| 7 |  70000000 | 5.547838  | \n",
       "| 9 | 120000000 | 6.636126  | \n",
       "| 10 | 156000000 | 7.155495  | \n",
       "| 11 | 213000000 | 7.612883  | \n",
       "| 12 | 263000000 | 8.139279  | \n",
       "\n",
       "\n"
      ],
      "text/plain": [
       "   y         x       \n",
       "2    4000000 3.253243\n",
       "4   17000000 3.878198\n",
       "5   35000000 4.411892\n",
       "6   46000000 4.949279\n",
       "7   70000000 5.547838\n",
       "9  120000000 6.636126\n",
       "10 156000000 7.155495\n",
       "11 213000000 7.612883\n",
       "12 263000000 8.139279"
      ]
     },
     "metadata": {},
     "output_type": "display_data"
    }
   ],
   "source": [
    "split = sample.split(prueba$y, SplitRatio = 0.7)\n",
    "nltrain = subset(prueba, split == TRUE)\n",
    "nltest = subset(prueba, split == FALSE)\n",
    "nltest\n",
    "nltrain"
   ]
  },
  {
   "cell_type": "code",
   "execution_count": 105,
   "metadata": {},
   "outputs": [
    {
     "name": "stdout",
     "output_type": "stream",
     "text": [
      "'data.frame':\t9 obs. of  4 variables:\n",
      " $ y : int  4000000 17000000 35000000 46000000 70000000 120000000 156000000 213000000 263000000\n",
      " $ x : num  3.25 3.88 4.41 4.95 5.55 ...\n",
      " $ x2: num  10.6 15 19.5 24.5 30.8 ...\n",
      " $ x3: num  34.4 58.3 85.9 121.2 170.8 ...\n"
     ]
    }
   ],
   "source": [
    "nltrain$x2 <- nltrain$x^2\n",
    "str(nltrain)"
   ]
  },
  {
   "cell_type": "code",
   "execution_count": 111,
   "metadata": {},
   "outputs": [
    {
     "data": {},
     "metadata": {},
     "output_type": "display_data"
    },
    {
     "data": {
      "image/png": "[encoded data removed]",
      "text/plain": [
       "plot without title"
      ]
     },
     "metadata": {},
     "output_type": "display_data"
    }
   ],
   "source": [
    "ggplot() + geom_point(data = nltrain, aes(x = nltrain$x, y = nltrain$y)) + \n",
    "  xlab(\"Variable Independiente\") + \n",
    "  ylab(\"Variable Dependiente\") + \n",
    "  ggtitle(\"Conjunto de entrenamiento train\")"
   ]
  },
  {
   "cell_type": "code",
   "execution_count": 112,
   "metadata": {},
   "outputs": [],
   "source": [
    "set.seed(1234)\n",
    "regresion_poly <- lm(y ~ x + x2, data = nltrain)"
   ]
  },
  {
   "cell_type": "code",
   "execution_count": 113,
   "metadata": {},
   "outputs": [
    {
     "data": {
      "text/plain": [
       "\n",
       "Call:\n",
       "lm(formula = y ~ x + x2, data = nltrain)\n",
       "\n",
       "Residuals:\n",
       "      Min        1Q    Median        3Q       Max \n",
       "-12541452  -7450155   3472106   5886041   9044822 \n",
       "\n",
       "Coefficients:\n",
       "             Estimate Std. Error t value Pr(>|t|)    \n",
       "(Intercept) 115830569   45205721   2.562  0.04278 *  \n",
       "x           -64975114   16769599  -3.875  0.00822 ** \n",
       "x2           10109936    1454659   6.950  0.00044 ***\n",
       "---\n",
       "Signif. codes:  0 '***' 0.001 '**' 0.01 '*' 0.05 '.' 0.1 ' ' 1\n",
       "\n",
       "Residual standard error: 9092000 on 6 degrees of freedom\n",
       "Multiple R-squared:  0.9926,\tAdjusted R-squared:  0.9901 \n",
       "F-statistic:   402 on 2 and 6 DF,  p-value: 4.064e-07\n"
      ]
     },
     "metadata": {},
     "output_type": "display_data"
    }
   ],
   "source": [
    "summary(regresion_poly)"
   ]
  },
  {
   "cell_type": "code",
   "execution_count": 114,
   "metadata": {},
   "outputs": [
    {
     "data": {},
     "metadata": {},
     "output_type": "display_data"
    },
    {
     "data": {
      "image/png": "[encoded data removed]",
      "text/plain": [
       "plot without title"
      ]
     },
     "metadata": {},
     "output_type": "display_data"
    }
   ],
   "source": [
    "y_poly_predict <- predict(regresion_poly, nltrain)\n",
    "ggplot() + geom_point(data = nltrain, aes(x = nltrain$x, y = nltrain$y), size = 0.7) + \n",
    "  geom_line(aes( x = nltrain$x, y = y_poly_predict), color = \"red\") +\n",
    "  xlab(\"Variable Independiente\") + \n",
    "  ylab(\"Variable Dependiente\") + \n",
    "  ggtitle(\"Curva de Ajuste sobre Conjunto de Entrenamiento (nltrain)\")"
   ]
  },
  {
   "cell_type": "code",
   "execution_count": 109,
   "metadata": {},
   "outputs": [
    {
     "data": {
      "text/plain": [
       "\n",
       "Call:\n",
       "lm(formula = y ~ x + x2 + x3, data = nltrain)\n",
       "\n",
       "Residuals:\n",
       "       2        4        5        6        7        9       10       11 \n",
       "  837590 -2697443  2169332 -1232320  2897703 -2336388 -5342464  8558645 \n",
       "      12 \n",
       "-2854655 \n",
       "\n",
       "Coefficients:\n",
       "              Estimate Std. Error t value Pr(>|t|)  \n",
       "(Intercept) -222594427   97537915  -2.282   0.0713 .\n",
       "x            132506746   55686970   2.379   0.0632 .\n",
       "x2           -26386303   10169187  -2.595   0.0486 *\n",
       "x3             2147542     596336   3.601   0.0155 *\n",
       "---\n",
       "Signif. codes:  0 '***' 0.001 '**' 0.01 '*' 0.05 '.' 0.1 ' ' 1\n",
       "\n",
       "Residual standard error: 5254000 on 5 degrees of freedom\n",
       "Multiple R-squared:  0.9979,\tAdjusted R-squared:  0.9967 \n",
       "F-statistic:   807 on 3 and 5 DF,  p-value: 3.926e-07\n"
      ]
     },
     "metadata": {},
     "output_type": "display_data"
    }
   ],
   "source": [
    "nltrain$x3 <- nltrain$x^3\n",
    "regresion_poly <- lm(y ~ x + x2 + x3, data = nltrain)\n",
    "summary(regresion_poly)"
   ]
  },
  {
   "cell_type": "code",
   "execution_count": 115,
   "metadata": {
    "scrolled": true
   },
   "outputs": [
    {
     "data": {},
     "metadata": {},
     "output_type": "display_data"
    },
    {
     "data": {
      "image/png": "[encoded data removed]",
      "text/plain": [
       "plot without title"
      ]
     },
     "metadata": {},
     "output_type": "display_data"
    }
   ],
   "source": [
    "y_poly_predict <- predict(regresion_poly, nltrain)\n",
    "ggplot() + \n",
    "geom_point(data = nltrain, aes(x = nltrain$x, y = nltrain$y), size = 0.9) + \n",
    "geom_line(aes( x = nltrain$x, y = y_poly_predict), color = \"red\") +\n",
    "  xlab(\"Variable Independiente\") + \n",
    "  ylab(\"Variable Dependiente\") + \n",
    "  ggtitle(\"Curva de Ajuste sobre Conjunto de Entrenamiento (nltrain)\")"
   ]
  },
  {
   "cell_type": "code",
   "execution_count": 116,
   "metadata": {},
   "outputs": [
    {
     "data": {},
     "metadata": {},
     "output_type": "display_data"
    },
    {
     "data": {
      "image/png": "[encoded data removed]",
      "text/plain": [
       "plot without title"
      ]
     },
     "metadata": {},
     "output_type": "display_data"
    }
   ],
   "source": [
    "# data <- data.frame(x=seq(from=31.3e6,to=60e6, by=1e6))\n",
    "# data2<-data.frame(cbind(data,data^2,data^3))\n",
    "# colnames(data2)<-c(\"x\",\"x2\",\"x3\")\n",
    "# data2\n",
    "# predYears <- predict(regresion_poly,newdata=data2)\n",
    "# nltest<-nltest[rep(seq_len(nrow(nltest)), each=2),]\n",
    "# nltest<-rbind(nltest,nltest[2,])\n",
    "# nltest\n",
    "# \n",
    "\n",
    "\n",
    "# ?predict\n",
    "nltest$x2 <- nltest$x^2\n",
    "nltest$x3 <- nltest$x^3\n",
    "y_poly_test_predict <- predict(regresion_poly, nltest)\n",
    "\n",
    "ggplot() + geom_point(data = nltest, aes(x = x, y = y), size = 0.9) + \n",
    "  geom_line(aes( x = nltest$x, y = y_poly_test_predict), color = \"red\") +\n",
    "  xlab(\"Variable Independiente\") + \n",
    "  ylab(\"Variable Dependiente\") + \n",
    "  ggtitle(\"Curva de Ajuste sobre Conjunto de Validación (nltest)\")"
   ]
  },
  {
   "cell_type": "code",
   "execution_count": 117,
   "metadata": {},
   "outputs": [
    {
     "data": {
      "text/html": [
       "<strong>1:</strong> 1415939523.37396"
      ],
      "text/latex": [
       "\\textbf{1:} 1415939523.37396"
      ],
      "text/markdown": [
       "**1:** 1415939523.37396"
      ],
      "text/plain": [
       "         1 \n",
       "1415939523 "
      ]
     },
     "metadata": {},
     "output_type": "display_data"
    }
   ],
   "source": [
    "predict_value_poly <- predict(regresion_poly, data.frame(x = 15,\n",
    "                                                         x2 = 15^2,\n",
    "                                                         x3 = 15^3))\n",
    "predict_value_poly"
   ]
  }
 ],
 "metadata": {
  "kernelspec": {
   "display_name": "R",
   "language": "R",
   "name": "ir"
  },
  "language_info": {
   "codemirror_mode": "r",
   "file_extension": ".r",
   "mimetype": "text/x-r-source",
   "name": "R",
   "pygments_lexer": "r",
   "version": "3.5.1"
  }
 },
 "nbformat": 4,
 "nbformat_minor": 2
}
