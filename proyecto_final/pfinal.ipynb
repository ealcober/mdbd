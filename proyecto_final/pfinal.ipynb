{
 "cells": [
  {
   "cell_type": "markdown",
   "metadata": {},
   "source": [
    "## Carga de datos y preparación del espacio de trabajo."
   ]
  },
  {
   "cell_type": "code",
   "execution_count": 5,
   "metadata": {},
   "outputs": [],
   "source": [
    "# Preparamos el espacio de trabajo\n",
    "setwd('C:/Users/ealcober/git/mdbd/proyecto_final')\n",
    "\n",
    "# para trabajar con ficheros excel\n",
    "if(!require(\"XLConnect\"))install.packages(\"XLConnect\") \n",
    "library(XLConnect)\n",
    "\n",
    "# dep 1\n",
    "if(!require(\"dplyr\"))install.packages(\"dplyr\") \n",
    "library(dplyr)\n",
    "\n",
    "# dep 2\n",
    "if(!require(\"ggplot2\"))install.packages(\"ggplot2\") \n",
    "library(ggplot2)\n",
    "\n",
    "# dep 3\n",
    "if(!require(\"RColorBrewer\"))install.packages(\"RColorBrewer\") \n",
    "library(RColorBrewer)\n",
    "\n",
    "# Función para eliminar fila por índice\n",
    "removeRowByIndex <- function(x, row_index) {\n",
    "  nr <- nrow(x)\n",
    "  if (nr < row_index) {\n",
    "    print('row_index exceeds number of rows')\n",
    "  } else if (row_index == 1)\n",
    "  {\n",
    "    return(x[2:nr, ])\n",
    "  } else if (row_index == nr) {\n",
    "    return(x[1:(nr - 1), ])\n",
    "  } else {\n",
    "    return (x[c(1:(row_index - 1), (row_index + 1):nr), ])\n",
    "  }\n",
    "}\n",
    "\n",
    "# Funcion que convierte a 0's los NAs\n",
    "haz.cero.na=function(x){\n",
    "  ifelse(is.na(x),0,x)}"
   ]
  },
  {
   "cell_type": "markdown",
   "metadata": {},
   "source": [
    "# Nuestra hipótesis inicial:\n",
    "## Queremos encontrar, si existe, una relación entre el nivel educativo de la población y el nivel de uso de plástico y su gestión.\n",
    "\n",
    "# Comenzamos exponiendo brevemente unas cifras que ilustra la Producción de plástico global en Toneladas"
   ]
  },
  {
   "cell_type": "code",
   "execution_count": 25,
   "metadata": {},
   "outputs": [
    {
     "data": {
      "text/html": [
       "<table>\n",
       "<thead><tr><th></th><th scope=col>Year</th><th scope=col>Global.plastics.production..million.tonnes...tonnes.</th></tr></thead>\n",
       "<tbody>\n",
       "\t<tr><th scope=row>61</th><td>2010     </td><td>313000000</td></tr>\n",
       "\t<tr><th scope=row>62</th><td>2011     </td><td>325000000</td></tr>\n",
       "\t<tr><th scope=row>63</th><td>2012     </td><td>338000000</td></tr>\n",
       "\t<tr><th scope=row>64</th><td>2013     </td><td>352000000</td></tr>\n",
       "\t<tr><th scope=row>65</th><td>2014     </td><td>367000000</td></tr>\n",
       "\t<tr><th scope=row>66</th><td>2015     </td><td>381000000</td></tr>\n",
       "</tbody>\n",
       "</table>\n"
      ],
      "text/latex": [
       "\\begin{tabular}{r|ll}\n",
       "  & Year & Global.plastics.production..million.tonnes...tonnes.\\\\\n",
       "\\hline\n",
       "\t61 & 2010      & 313000000\\\\\n",
       "\t62 & 2011      & 325000000\\\\\n",
       "\t63 & 2012      & 338000000\\\\\n",
       "\t64 & 2013      & 352000000\\\\\n",
       "\t65 & 2014      & 367000000\\\\\n",
       "\t66 & 2015      & 381000000\\\\\n",
       "\\end{tabular}\n"
      ],
      "text/markdown": [
       "\n",
       "| <!--/--> | Year | Global.plastics.production..million.tonnes...tonnes. | \n",
       "|---|---|---|---|---|---|\n",
       "| 61 | 2010      | 313000000 | \n",
       "| 62 | 2011      | 325000000 | \n",
       "| 63 | 2012      | 338000000 | \n",
       "| 64 | 2013      | 352000000 | \n",
       "| 65 | 2014      | 367000000 | \n",
       "| 66 | 2015      | 381000000 | \n",
       "\n",
       "\n"
      ],
      "text/plain": [
       "   Year Global.plastics.production..million.tonnes...tonnes.\n",
       "61 2010 313000000                                           \n",
       "62 2011 325000000                                           \n",
       "63 2012 338000000                                           \n",
       "64 2013 352000000                                           \n",
       "65 2014 367000000                                           \n",
       "66 2015 381000000                                           "
      ]
     },
     "metadata": {},
     "output_type": "display_data"
    },
    {
     "data": {
      "image/png": "[encoded data removed]",
      "text/plain": [
       "Plot with title \"Produccion de plastico global\""
      ]
     },
     "metadata": {},
     "output_type": "display_data"
    }
   ],
   "source": [
    "\n",
    "gpp<-read.csv('sources/global-plastics-production.csv',header=TRUE,sep=\",\" , quote=\"\\\"\",dec=\".\",fill=TRUE)\n",
    "sch<-read.csv('sources/mean-years-of-schooling-selected-countries.csv',header=TRUE,sep=\",\" , quote=\"\\\"\",dec=\".\",fill=TRUE)\n",
    "pFate<-read.csv('sources/global-plastic-fate.csv',header=TRUE,sep=\",\" , quote=\"\\\"\",dec=\".\",fill=TRUE,na.strings=\"0\", as.is=T)\n",
    "\n",
    "\n",
    "gpp$Entity <- NULL\n",
    "gpp$Code <- NULL\n",
    "\n",
    "# tabla\n",
    "tail(gpp)\n",
    "#Produccion de plastico global \n",
    "colnames(gpp) <- c(\"Year\", \"Prod de plastico global\")\n",
    "plot(gpp$Year, gpp$`Prod de plastico global`, main=\"Produccion de plastico global\",\n",
    "    xlab = \"Años\", ylab=\"prod plastico(mill. de toneladas)\", type=\"l\", col=\"blue\")\n"
   ]
  },
  {
   "cell_type": "markdown",
   "metadata": {},
   "source": [
    "### Como se puede observar la producción de plástico a nivel mundial crece exponencialmente\n",
    "\n",
    "## Vamos a contrastar este dato, con la media de años que pasa escolarizada una persona, por país, centrándo nuestra observación en las últimas dos décadas."
   ]
  },
  {
   "cell_type": "code",
   "execution_count": 50,
   "metadata": {},
   "outputs": [
    {
     "data": {
      "image/png": "[encoded data removed]",
      "text/plain": [
       "plot without title"
      ]
     },
     "metadata": {},
     "output_type": "display_data"
    }
   ],
   "source": [
    "schmean<-aggregate.data.frame(sch$Total_YearsSchool.â...Lee.Lee..2016...years. ,list(sch$Year), FUN=mean)\n",
    "colnames(schmean) <- c(\"Year\", \"mean escalorizados\")\n",
    "prueba <- merge(gpp, schmean, by.y=\"Year\", sort = TRUE)\n",
    "prueba$`Prod de plastico global` <- prueba$`Prod de plastico global` / 10000000\n",
    "\n",
    "plot(prueba$Year,prueba$`Prod de plastico global`,type=\"l\",col=\"blue\", xlim=c(1960,2010), xlab=\"Years\", ylab=\"Value\")\n",
    "lines(prueba$Year,prueba$`mean escalorizados`,col=\"red\")\n",
    "reciclado <- pFate[c(73:108), ]\n",
    "\n",
    "prueba2<-merge(prueba, reciclado, by.y=\"Year\", sort=TRUE)\n",
    "lines(prueba2$Year,prueba2$Estimated.historic.plastic.fate....,col=\"green\")\n",
    "\n",
    "legend(\"bottomleft\", legend=c(\"Toneladas de plástico producidas\", \"Media de años de escolarización p/c\", \"Cantidad de residuos plásticos reciclados\"),\n",
    "      col=c(\"blue\", \"red\", \"green\"),\n",
    "      pch=c(20,20,20),\n",
    "       inset=c(0.005,0.83)\n",
    "      )"
   ]
  },
  {
   "cell_type": "code",
   "execution_count": 77,
   "metadata": {},
   "outputs": [
    {
     "name": "stderr",
     "output_type": "stream",
     "text": [
      "Warning message in data.matrix(x):\n",
      "\"NAs introducidos por coerción\"Warning message in min(x):\n",
      "\"ningún argumento finito para min; retornando Inf\"Warning message in max(x):\n",
      "\"ningun argumento finito para max; retornando -Inf\""
     ]
    },
    {
     "ename": "ERROR",
     "evalue": "Error in plot.window(...): se necesitan valores finitos de 'ylim'\n",
     "output_type": "error",
     "traceback": [
      "Error in plot.window(...): se necesitan valores finitos de 'ylim'\nTraceback:\n",
      "1. plot(resul)",
      "2. plot.data.frame(resul)",
      "3. pairs(data.matrix(x), ...)",
      "4. pairs.default(data.matrix(x), ...)",
      "5. localPlot(x[, j], x[, i], xlab = \"\", ylab = \"\", axes = FALSE, \n .     type = \"n\", ..., log = l)",
      "6. plot(...)",
      "7. plot.default(...)",
      "8. localWindow(xlim, ylim, log, asp, ...)",
      "9. plot.window(...)"
     ]
    },
    {
     "data": {
      "image/png": "[encoded data removed]",
      "text/plain": [
       "plot without title"
      ]
     },
     "metadata": {},
     "output_type": "display_data"
    }
   ],
   "source": []
  }
 ],
 "metadata": {
  "kernelspec": {
   "display_name": "R",
   "language": "R",
   "name": "ir"
  },
  "language_info": {
   "codemirror_mode": "r",
   "file_extension": ".r",
   "mimetype": "text/x-r-source",
   "name": "R",
   "pygments_lexer": "r",
   "version": "3.5.1"
  }
 },
 "nbformat": 4,
 "nbformat_minor": 2
}
