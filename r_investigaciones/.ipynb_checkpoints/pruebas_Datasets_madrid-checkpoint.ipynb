{
 "cells": [
  {
   "cell_type": "markdown",
   "metadata": {},
   "source": [
    "# setwd('C:/Users/ealcober/git/mdbd/datasets_madrid')\n",
    "seleccionar convenientemente la carpeta con las fuentes del proyecto\n",
    "\n"
   ]
  },
  {
   "cell_type": "markdown",
   "metadata": {},
   "source": [
    "En primer lugar procedo a presentar los datos"
   ]
  },
  {
   "cell_type": "code",
   "execution_count": 55,
   "metadata": {},
   "outputs": [],
   "source": [
    "setwd('C:/Users/ealcober/git/mdbd/sources_data')\n",
    "\n",
    "# para trabajar con ficheros excel\n",
    "if(!require(\"XLConnect\"))install.packages(\"XLConnect\") \n",
    "library(XLConnect)\n",
    "\n",
    "# Función para eliminar fila por índice\n",
    "removeRowByIndex <- function(x, row_index) {\n",
    "  nr <- nrow(x)\n",
    "  if (nr < row_index) {\n",
    "    print('row_index exceeds number of rows')\n",
    "  } else if (row_index == 1)\n",
    "  {\n",
    "    return(x[2:nr, ])\n",
    "  } else if (row_index == nr) {\n",
    "    return(x[1:(nr - 1), ])\n",
    "  } else {\n",
    "    return (x[c(1:(row_index - 1), (row_index + 1):nr), ])\n",
    "  }\n",
    "}\n",
    "\n",
    "# Funcion que convierte a 0's los NAs\n",
    "haz.cero.na=function(x){\n",
    "  ifelse(is.na(x),0,x)}"
   ]
  },
  {
   "cell_type": "code",
   "execution_count": 117,
   "metadata": {},
   "outputs": [],
   "source": [
    "# gasto de empresas en protección ambiental\n",
    "\n",
    "# Abre(si es posible) y carga el libro del fichero Excel \n",
    "gastoEmpresasProtAmbientalExcel<-loadWorkbook('anu1-3-7_mod.xls') \n",
    "# Lee los nombres de sus hojas de cálculo en un vector de tipo carácter\n",
    "myExcelFileSheetNames<-getSheets(gastoEmpresasProtAmbientalExcel)\n",
    "#Lee el contenido de la primera hoja de cálculo \n",
    "myExcelFileFirstSheet<- readWorksheet(gastoEmpresasProtAmbientalExcel,sheet=myExcelFileSheetNames[1])\n",
    "myExcelFileSecondSheet<- readWorksheet(gastoEmpresasProtAmbientalExcel,sheet=myExcelFileSheetNames[2])\n"
   ]
  },
  {
   "cell_type": "code",
   "execution_count": 118,
   "metadata": {
    "scrolled": true
   },
   "outputs": [],
   "source": [
    "# para referirnos a la primera fila del DF myExcelFileSecondSheet[,1]\n",
    "# quito espacios de 6 y de 3 en tres\n",
    "myExcelFileFirstSheet[,1]<-gsub(\"      \", \"\", myExcelFileFirstSheet[,1])\n",
    "myExcelFileFirstSheet[,1]<-gsub(\"   \", \"\", myExcelFileFirstSheet[,1])\n",
    "# quito Col1 y la X de los nombres de columna\n",
    "colnames(myExcelFileFirstSheet)<-c(\"concepto\",2008:2016)\n",
    "# y aquí está el DF \"limpio\"\n",
    "#myExcelFileSecondSheet\n",
    "\n",
    "# si queremos eliminar alguna fila\n",
    "# removeRowByIndex(myExcelFileSecondSheet,17)\n",
    "\n",
    "# mismas operaciones con la segunda hoja\n",
    "\n",
    "myExcelFileSecondSheet[,1]<-gsub(\"      \", \"\", myExcelFileSecondSheet[,1])\n",
    "myExcelFileSecondSheet[,1]<-gsub(\"   \", \"\", myExcelFileSecondSheet[,1])\n",
    "# quito Col1 y la X de los nombres de columna\n",
    "colnames(myExcelFileSecondSheet)<-factor(c(\"concepto\",2008:2016))\n",
    "\n",
    "# sumo por filas, para plotear respecto al total\n",
    "myExcelFileFirstSheet<-aggregate(x = myExcelFileFirstSheet[c(\"2008\",\"2009\",\"2010\",\"2011\",\"2012\",\"2013\",\"2014\",\"2015\",\"2016\")],\n",
    "                       by = myExcelFileFirstSheet[c(\"concepto\")],\n",
    "                       FUN = sum)\n",
    "myExcelFileSecondSheet<-aggregate(x = myExcelFileSecondSheet[c(\"2008\",\"2009\",\"2010\",\"2011\",\"2012\",\"2013\",\"2014\",\"2015\",\"2016\")],\n",
    "                       by = myExcelFileSecondSheet[c(\"concepto\")],\n",
    "                       FUN = sum)\n",
    "# df1 <- data.frame(matrix(unlist(myExcelFileSecondSheet), nrow=length(myExcelFileSecondSheet), byrow=T))\n",
    "# plot(myExcelFileSecondSheet$concepto,myExcelFileSecondSheet$2008)\n",
    "# plot(myExcelFileSecondSheet[,-c(1,6)])\n",
    "\n",
    "# with(myExcelFileSecondSheet,plot(myExcelFileSecondSheet[0,],myExcelFileSecondSheet[,-c(1,6)]))\n",
    "\n",
    "\n"
   ]
  },
  {
   "cell_type": "code",
   "execution_count": 119,
   "metadata": {
    "scrolled": true
   },
   "outputs": [
    {
     "data": {
      "text/html": [
       "<table>\n",
       "<thead><tr><th></th><th scope=col>concepto</th><th scope=col>2008</th><th scope=col>2009</th><th scope=col>2010</th><th scope=col>2011</th><th scope=col>2012</th><th scope=col>2013</th><th scope=col>2014</th><th scope=col>2015</th><th scope=col>2016</th></tr></thead>\n",
       "<tbody>\n",
       "\t<tr><th scope=row>6</th><td>Inversión total                            </td><td>54942102                                   </td><td>109852735                                  </td><td>50620933                                   </td><td>36521655                                   </td><td>30891302                                   </td><td>33615695                                   </td><td>38334082                                   </td><td>33150694                                   </td><td>29706880                                   </td></tr>\n",
       "\t<tr><th scope=row>8</th><td>Protección de la biodiversidad y el paisaje</td><td> 1872248                                   </td><td>  3986368                                  </td><td>16007628                                   </td><td>17997497                                   </td><td>16984170                                   </td><td>24599443                                   </td><td>20906633                                   </td><td>22059168                                   </td><td>20838951                                   </td></tr>\n",
       "\t<tr><th scope=row>10</th><td>Residuos                                   </td><td> 4289686                                   </td><td>  5087282                                  </td><td> 7282385                                   </td><td> 3784603                                   </td><td> 1805115                                   </td><td> 1751608                                   </td><td> 3612856                                   </td><td>  990920                                   </td><td> 1114655                                   </td></tr>\n",
       "</tbody>\n",
       "</table>\n"
      ],
      "text/latex": [
       "\\begin{tabular}{r|llllllllll}\n",
       "  & concepto & 2008 & 2009 & 2010 & 2011 & 2012 & 2013 & 2014 & 2015 & 2016\\\\\n",
       "\\hline\n",
       "\t6 & Inversión total                             & 54942102                                    & 109852735                                   & 50620933                                    & 36521655                                    & 30891302                                    & 33615695                                    & 38334082                                    & 33150694                                    & 29706880                                   \\\\\n",
       "\t8 & Protección de la biodiversidad y el paisaje &  1872248                                    &   3986368                                   & 16007628                                    & 17997497                                    & 16984170                                    & 24599443                                    & 20906633                                    & 22059168                                    & 20838951                                   \\\\\n",
       "\t10 & Residuos                                    &  4289686                                    &   5087282                                   &  7282385                                    &  3784603                                    &  1805115                                    &  1751608                                    &  3612856                                    &   990920                                    &  1114655                                   \\\\\n",
       "\\end{tabular}\n"
      ],
      "text/markdown": [
       "\n",
       "| <!--/--> | concepto | 2008 | 2009 | 2010 | 2011 | 2012 | 2013 | 2014 | 2015 | 2016 | \n",
       "|---|---|---|\n",
       "| 6 | Inversión total                             | 54942102                                    | 109852735                                   | 50620933                                    | 36521655                                    | 30891302                                    | 33615695                                    | 38334082                                    | 33150694                                    | 29706880                                    | \n",
       "| 8 | Protección de la biodiversidad y el paisaje |  1872248                                    |   3986368                                   | 16007628                                    | 17997497                                    | 16984170                                    | 24599443                                    | 20906633                                    | 22059168                                    | 20838951                                    | \n",
       "| 10 | Residuos                                    |  4289686                                    |   5087282                                   |  7282385                                    |  3784603                                    |  1805115                                    |  1751608                                    |  3612856                                    |   990920                                    |  1114655                                    | \n",
       "\n",
       "\n"
      ],
      "text/plain": [
       "   concepto                                    2008     2009      2010    \n",
       "6  Inversión total                             54942102 109852735 50620933\n",
       "8  Protección de la biodiversidad y el paisaje  1872248   3986368 16007628\n",
       "10 Residuos                                     4289686   5087282  7282385\n",
       "   2011     2012     2013     2014     2015     2016    \n",
       "6  36521655 30891302 33615695 38334082 33150694 29706880\n",
       "8  17997497 16984170 24599443 20906633 22059168 20838951\n",
       "10  3784603  1805115  1751608  3612856   990920  1114655"
      ]
     },
     "metadata": {},
     "output_type": "display_data"
    },
    {
     "data": {
      "text/html": [
       "<table>\n",
       "<thead><tr><th></th><th scope=col>concepto</th><th scope=col>2008</th><th scope=col>2009</th><th scope=col>2010</th><th scope=col>2011</th><th scope=col>2012</th><th scope=col>2013</th><th scope=col>2014</th><th scope=col>2015</th><th scope=col>2016</th></tr></thead>\n",
       "<tbody>\n",
       "\t<tr><th scope=row>6</th><td>Inversión total                            </td><td>24471599                                   </td><td>18657889                                   </td><td>20653845                                   </td><td>11848297                                   </td><td>12465905                                   </td><td>7922953                                    </td><td>15178336                                   </td><td>8346581                                    </td><td>8392200                                    </td></tr>\n",
       "\t<tr><th scope=row>8</th><td>Protección de la biodiversidad y el paisaje</td><td>  533769                                   </td><td>    5309                                   </td><td>    3479                                   </td><td>   18540                                   </td><td>   33093                                   </td><td> 399341                                    </td><td>   52593                                   </td><td>  18070                                    </td><td> 381767                                    </td></tr>\n",
       "\t<tr><th scope=row>10</th><td>Residuos                                   </td><td> 4255510                                   </td><td> 5080816                                   </td><td> 7271105                                   </td><td> 3426845                                   </td><td> 1805115                                   </td><td>1720648                                    </td><td> 3301787                                   </td><td> 863019                                    </td><td>1113412                                    </td></tr>\n",
       "</tbody>\n",
       "</table>\n"
      ],
      "text/latex": [
       "\\begin{tabular}{r|llllllllll}\n",
       "  & concepto & 2008 & 2009 & 2010 & 2011 & 2012 & 2013 & 2014 & 2015 & 2016\\\\\n",
       "\\hline\n",
       "\t6 & Inversión total                             & 24471599                                    & 18657889                                    & 20653845                                    & 11848297                                    & 12465905                                    & 7922953                                     & 15178336                                    & 8346581                                     & 8392200                                    \\\\\n",
       "\t8 & Protección de la biodiversidad y el paisaje &   533769                                    &     5309                                    &     3479                                    &    18540                                    &    33093                                    &  399341                                     &    52593                                    &   18070                                     &  381767                                    \\\\\n",
       "\t10 & Residuos                                    &  4255510                                    &  5080816                                    &  7271105                                    &  3426845                                    &  1805115                                    & 1720648                                     &  3301787                                    &  863019                                     & 1113412                                    \\\\\n",
       "\\end{tabular}\n"
      ],
      "text/markdown": [
       "\n",
       "| <!--/--> | concepto | 2008 | 2009 | 2010 | 2011 | 2012 | 2013 | 2014 | 2015 | 2016 | \n",
       "|---|---|---|\n",
       "| 6 | Inversión total                             | 24471599                                    | 18657889                                    | 20653845                                    | 11848297                                    | 12465905                                    | 7922953                                     | 15178336                                    | 8346581                                     | 8392200                                     | \n",
       "| 8 | Protección de la biodiversidad y el paisaje |   533769                                    |     5309                                    |     3479                                    |    18540                                    |    33093                                    |  399341                                     |    52593                                    |   18070                                     |  381767                                     | \n",
       "| 10 | Residuos                                    |  4255510                                    |  5080816                                    |  7271105                                    |  3426845                                    |  1805115                                    | 1720648                                     |  3301787                                    |  863019                                     | 1113412                                     | \n",
       "\n",
       "\n"
      ],
      "text/plain": [
       "   concepto                                    2008     2009     2010    \n",
       "6  Inversión total                             24471599 18657889 20653845\n",
       "8  Protección de la biodiversidad y el paisaje   533769     5309     3479\n",
       "10 Residuos                                     4255510  5080816  7271105\n",
       "   2011     2012     2013    2014     2015    2016   \n",
       "6  11848297 12465905 7922953 15178336 8346581 8392200\n",
       "8     18540    33093  399341    52593   18070  381767\n",
       "10  3426845  1805115 1720648  3301787  863019 1113412"
      ]
     },
     "metadata": {},
     "output_type": "display_data"
    }
   ],
   "source": [
    "myExcelFileFirstSheet<-removeRowByIndex(myExcelFileFirstSheet,1)\n",
    "myExcelFileFirstSheet<-removeRowByIndex(myExcelFileFirstSheet,1)\n",
    "myExcelFileFirstSheet<-removeRowByIndex(myExcelFileFirstSheet,1)\n",
    "myExcelFileFirstSheet<-removeRowByIndex(myExcelFileFirstSheet,1)\n",
    "myExcelFileFirstSheet<-removeRowByIndex(myExcelFileFirstSheet,1)\n",
    "myExcelFileFirstSheet<-removeRowByIndex(myExcelFileFirstSheet,2)\n",
    "myExcelFileFirstSheet<-removeRowByIndex(myExcelFileFirstSheet,3)\n",
    "myExcelFileFirstSheet<-removeRowByIndex(myExcelFileFirstSheet,4)\n",
    "myExcelFileFirstSheet<-removeRowByIndex(myExcelFileFirstSheet,4)\n",
    "myExcelFileFirstSheet\n",
    "\n",
    "myExcelFileSecondSheet<-removeRowByIndex(myExcelFileSecondSheet,1)\n",
    "myExcelFileSecondSheet<-removeRowByIndex(myExcelFileSecondSheet,1)\n",
    "myExcelFileSecondSheet<-removeRowByIndex(myExcelFileSecondSheet,1)\n",
    "myExcelFileSecondSheet<-removeRowByIndex(myExcelFileSecondSheet,1)\n",
    "myExcelFileSecondSheet<-removeRowByIndex(myExcelFileSecondSheet,1)\n",
    "myExcelFileSecondSheet<-removeRowByIndex(myExcelFileSecondSheet,2)\n",
    "myExcelFileSecondSheet<-removeRowByIndex(myExcelFileSecondSheet,3)\n",
    "myExcelFileSecondSheet<-removeRowByIndex(myExcelFileSecondSheet,4)\n",
    "myExcelFileSecondSheet<-removeRowByIndex(myExcelFileSecondSheet,4)\n",
    "myExcelFileSecondSheet"
   ]
  },
  {
   "cell_type": "code",
   "execution_count": 120,
   "metadata": {},
   "outputs": [
    {
     "data": {
      "text/html": [
       "<table>\n",
       "<thead><tr><th></th><th scope=col>2008</th><th scope=col>2009</th><th scope=col>2010</th><th scope=col>2011</th><th scope=col>2012</th><th scope=col>2013</th><th scope=col>2014</th><th scope=col>2015</th><th scope=col>2016</th></tr></thead>\n",
       "<tbody>\n",
       "\t<tr><th scope=row>6</th><td>54942102 </td><td>109852735</td><td>50620933 </td><td>36521655 </td><td>30891302 </td><td>33615695 </td><td>38334082 </td><td>33150694 </td><td>29706880 </td></tr>\n",
       "\t<tr><th scope=row>8</th><td> 1872248 </td><td>  3986368</td><td>16007628 </td><td>17997497 </td><td>16984170 </td><td>24599443 </td><td>20906633 </td><td>22059168 </td><td>20838951 </td></tr>\n",
       "\t<tr><th scope=row>10</th><td> 4289686 </td><td>  5087282</td><td> 7282385 </td><td> 3784603 </td><td> 1805115 </td><td> 1751608 </td><td> 3612856 </td><td>  990920 </td><td> 1114655 </td></tr>\n",
       "</tbody>\n",
       "</table>\n"
      ],
      "text/latex": [
       "\\begin{tabular}{r|lllllllll}\n",
       "  & 2008 & 2009 & 2010 & 2011 & 2012 & 2013 & 2014 & 2015 & 2016\\\\\n",
       "\\hline\n",
       "\t6 & 54942102  & 109852735 & 50620933  & 36521655  & 30891302  & 33615695  & 38334082  & 33150694  & 29706880 \\\\\n",
       "\t8 &  1872248  &   3986368 & 16007628  & 17997497  & 16984170  & 24599443  & 20906633  & 22059168  & 20838951 \\\\\n",
       "\t10 &  4289686  &   5087282 &  7282385  &  3784603  &  1805115  &  1751608  &  3612856  &   990920  &  1114655 \\\\\n",
       "\\end{tabular}\n"
      ],
      "text/markdown": [
       "\n",
       "| <!--/--> | 2008 | 2009 | 2010 | 2011 | 2012 | 2013 | 2014 | 2015 | 2016 | \n",
       "|---|---|---|\n",
       "| 6 | 54942102  | 109852735 | 50620933  | 36521655  | 30891302  | 33615695  | 38334082  | 33150694  | 29706880  | \n",
       "| 8 |  1872248  |   3986368 | 16007628  | 17997497  | 16984170  | 24599443  | 20906633  | 22059168  | 20838951  | \n",
       "| 10 |  4289686  |   5087282 |  7282385  |  3784603  |  1805115  |  1751608  |  3612856  |   990920  |  1114655  | \n",
       "\n",
       "\n"
      ],
      "text/plain": [
       "   2008     2009      2010     2011     2012     2013     2014     2015    \n",
       "6  54942102 109852735 50620933 36521655 30891302 33615695 38334082 33150694\n",
       "8   1872248   3986368 16007628 17997497 16984170 24599443 20906633 22059168\n",
       "10  4289686   5087282  7282385  3784603  1805115  1751608  3612856   990920\n",
       "   2016    \n",
       "6  29706880\n",
       "8  20838951\n",
       "10  1114655"
      ]
     },
     "metadata": {},
     "output_type": "display_data"
    },
    {
     "data": {
      "text/html": [
       "<table>\n",
       "<thead><tr><th></th><th scope=col>2008</th><th scope=col>2009</th><th scope=col>2010</th><th scope=col>2011</th><th scope=col>2012</th><th scope=col>2013</th><th scope=col>2014</th><th scope=col>2015</th><th scope=col>2016</th></tr></thead>\n",
       "<tbody>\n",
       "\t<tr><th scope=row>6</th><td>24471599</td><td>18657889</td><td>20653845</td><td>11848297</td><td>12465905</td><td>7922953 </td><td>15178336</td><td>8346581 </td><td>8392200 </td></tr>\n",
       "\t<tr><th scope=row>8</th><td>  533769</td><td>    5309</td><td>    3479</td><td>   18540</td><td>   33093</td><td> 399341 </td><td>   52593</td><td>  18070 </td><td> 381767 </td></tr>\n",
       "\t<tr><th scope=row>10</th><td> 4255510</td><td> 5080816</td><td> 7271105</td><td> 3426845</td><td> 1805115</td><td>1720648 </td><td> 3301787</td><td> 863019 </td><td>1113412 </td></tr>\n",
       "</tbody>\n",
       "</table>\n"
      ],
      "text/latex": [
       "\\begin{tabular}{r|lllllllll}\n",
       "  & 2008 & 2009 & 2010 & 2011 & 2012 & 2013 & 2014 & 2015 & 2016\\\\\n",
       "\\hline\n",
       "\t6 & 24471599 & 18657889 & 20653845 & 11848297 & 12465905 & 7922953  & 15178336 & 8346581  & 8392200 \\\\\n",
       "\t8 &   533769 &     5309 &     3479 &    18540 &    33093 &  399341  &    52593 &   18070  &  381767 \\\\\n",
       "\t10 &  4255510 &  5080816 &  7271105 &  3426845 &  1805115 & 1720648  &  3301787 &  863019  & 1113412 \\\\\n",
       "\\end{tabular}\n"
      ],
      "text/markdown": [
       "\n",
       "| <!--/--> | 2008 | 2009 | 2010 | 2011 | 2012 | 2013 | 2014 | 2015 | 2016 | \n",
       "|---|---|---|\n",
       "| 6 | 24471599 | 18657889 | 20653845 | 11848297 | 12465905 | 7922953  | 15178336 | 8346581  | 8392200  | \n",
       "| 8 |   533769 |     5309 |     3479 |    18540 |    33093 |  399341  |    52593 |   18070  |  381767  | \n",
       "| 10 |  4255510 |  5080816 |  7271105 |  3426845 |  1805115 | 1720648  |  3301787 |  863019  | 1113412  | \n",
       "\n",
       "\n"
      ],
      "text/plain": [
       "   2008     2009     2010     2011     2012     2013    2014     2015   \n",
       "6  24471599 18657889 20653845 11848297 12465905 7922953 15178336 8346581\n",
       "8    533769     5309     3479    18540    33093  399341    52593   18070\n",
       "10  4255510  5080816  7271105  3426845  1805115 1720648  3301787  863019\n",
       "   2016   \n",
       "6  8392200\n",
       "8   381767\n",
       "10 1113412"
      ]
     },
     "metadata": {},
     "output_type": "display_data"
    },
    {
     "data": {
      "text/html": [
       "'Inversión total'"
      ],
      "text/latex": [
       "'Inversión total'"
      ],
      "text/markdown": [
       "'Inversión total'"
      ],
      "text/plain": [
       "[1] \"Inversión total\""
      ]
     },
     "metadata": {},
     "output_type": "display_data"
    }
   ],
   "source": [
    "conceptos<-myExcelFileFirstSheet[,1]\n",
    "myExcelFileFirstSheet[,1]<-NULL\n",
    "myExcelFileSecondSheet[,1]<-NULL\n",
    "myExcelFileFirstSheet\n",
    "myExcelFileSecondSheet\n",
    "conceptos[1]"
   ]
  },
  {
   "cell_type": "code",
   "execution_count": 112,
   "metadata": {},
   "outputs": [
    {
     "data": {
      "text/html": [
       "<table>\n",
       "<thead><tr><th></th><th scope=col>2008</th><th scope=col>2009</th><th scope=col>2010</th><th scope=col>2011</th><th scope=col>2012</th><th scope=col>2013</th><th scope=col>2014</th><th scope=col>2015</th><th scope=col>2016</th></tr></thead>\n",
       "<tbody>\n",
       "\t<tr><th scope=row>6</th><td>79413701 </td><td>128510624</td><td>71274778 </td><td>48369952 </td><td>43357207 </td><td>41538648 </td><td>53512418 </td><td>41497275 </td><td>38099080 </td></tr>\n",
       "\t<tr><th scope=row>8</th><td> 2406017 </td><td>  3991677</td><td>16011107 </td><td>18016037 </td><td>17017263 </td><td>24998784 </td><td>20959226 </td><td>22077238 </td><td>21220718 </td></tr>\n",
       "\t<tr><th scope=row>10</th><td> 8545196 </td><td> 10168098</td><td>14553490 </td><td> 7211448 </td><td> 3610230 </td><td> 3472256 </td><td> 6914643 </td><td> 1853939 </td><td> 2228067 </td></tr>\n",
       "</tbody>\n",
       "</table>\n"
      ],
      "text/latex": [
       "\\begin{tabular}{r|lllllllll}\n",
       "  & 2008 & 2009 & 2010 & 2011 & 2012 & 2013 & 2014 & 2015 & 2016\\\\\n",
       "\\hline\n",
       "\t6 & 79413701  & 128510624 & 71274778  & 48369952  & 43357207  & 41538648  & 53512418  & 41497275  & 38099080 \\\\\n",
       "\t8 &  2406017  &   3991677 & 16011107  & 18016037  & 17017263  & 24998784  & 20959226  & 22077238  & 21220718 \\\\\n",
       "\t10 &  8545196  &  10168098 & 14553490  &  7211448  &  3610230  &  3472256  &  6914643  &  1853939  &  2228067 \\\\\n",
       "\\end{tabular}\n"
      ],
      "text/markdown": [
       "\n",
       "| <!--/--> | 2008 | 2009 | 2010 | 2011 | 2012 | 2013 | 2014 | 2015 | 2016 | \n",
       "|---|---|---|\n",
       "| 6 | 79413701  | 128510624 | 71274778  | 48369952  | 43357207  | 41538648  | 53512418  | 41497275  | 38099080  | \n",
       "| 8 |  2406017  |   3991677 | 16011107  | 18016037  | 17017263  | 24998784  | 20959226  | 22077238  | 21220718  | \n",
       "| 10 |  8545196  |  10168098 | 14553490  |  7211448  |  3610230  |  3472256  |  6914643  |  1853939  |  2228067  | \n",
       "\n",
       "\n"
      ],
      "text/plain": [
       "   2008     2009      2010     2011     2012     2013     2014     2015    \n",
       "6  79413701 128510624 71274778 48369952 43357207 41538648 53512418 41497275\n",
       "8   2406017   3991677 16011107 18016037 17017263 24998784 20959226 22077238\n",
       "10  8545196  10168098 14553490  7211448  3610230  3472256  6914643  1853939\n",
       "   2016    \n",
       "6  38099080\n",
       "8  21220718\n",
       "10  2228067"
      ]
     },
     "metadata": {},
     "output_type": "display_data"
    }
   ],
   "source": [
    "dfTotal <- myExcelFileFirstSheet + myExcelFileSecondSheet\n",
    "dfTotal"
   ]
  },
  {
   "cell_type": "code",
   "execution_count": 140,
   "metadata": {
    "scrolled": true
   },
   "outputs": [
    {
     "data": {
      "image/png": "[encoded data removed]",
      "text/plain": [
       "Plot with title \"Residuos\""
      ]
     },
     "metadata": {},
     "output_type": "display_data"
    },
    {
     "data": {
      "image/png": "[encoded data removed]",
      "text/plain": [
       "Plot with title \"Porcentaje del total invertido en ECO\""
      ]
     },
     "metadata": {},
     "output_type": "display_data"
    }
   ],
   "source": [
    "layout(matrix(c(1,1,2,3), 2, 2, byrow = TRUE))\n",
    "years<-c(2008:2016)\n",
    "plot(years,dfTotal[1,],main=conceptos[1],xlab=\"Inversión Anual\",ylab=\"€ Euros\")\n",
    "plot(years,dfTotal[2,],main=conceptos[2],xlab=\"Inversión Anual\",ylab=\"€ Euros\")\n",
    "plot(years,dfTotal[3,],main=conceptos[3],xlab=\"Inversión Anual\",ylab=\"€ Euros\")\n",
    "\n",
    "porcentaje <- ((dfTotal[2,] + dfTotal[3,]) / dfTotal[1,]) *100\n",
    "\n",
    "plot(2008:2016,porcentaje,main=\"Porcentaje del total invertido en ECO\",xlab=\"Inversión Anual\",ylab=\"€ Euros\")"
   ]
  },
  {
   "cell_type": "code",
   "execution_count": 141,
   "metadata": {},
   "outputs": [
    {
     "data": {
      "text/plain": [
       "\n",
       "Call:\n",
       "lm(formula = unlist(porcentaje, use.names = FALSE) ~ years)\n",
       "\n",
       "Coefficients:\n",
       "(Intercept)        years  \n",
       " -12220.479        6.096  \n"
      ]
     },
     "metadata": {},
     "output_type": "display_data"
    },
    {
     "data": {
      "image/png": "[encoded data removed]",
      "text/plain": [
       "Plot with title \"\""
      ]
     },
     "metadata": {},
     "output_type": "display_data"
    }
   ],
   "source": [
    "fit <-lm(unlist(porcentaje, use.names=FALSE) ~ years)\n",
    "fit\n",
    "layout(matrix(c(1,2,3,4), 2, 2, byrow = TRUE))\n",
    "plot(fit)"
   ]
  },
  {
   "cell_type": "markdown",
   "metadata": {},
   "source": [
    "### Comentarios\n",
    "#### El porcentaje anual de inversión en medio ambiente = -12220.479 + 6.096 * #año\n",
    "#### Mientras que el gasto anual decrementa en Protección de la biodiversidad y el paisaje, aumenta la cantidad invertida en tratamiento de residuos. También vemos cómo estos dos conceptos van acaparando cada vez mayor parte del total invertido."
   ]
  }
 ],
 "metadata": {
  "kernelspec": {
   "display_name": "R",
   "language": "R",
   "name": "ir"
  },
  "language_info": {
   "codemirror_mode": "r",
   "file_extension": ".r",
   "mimetype": "text/x-r-source",
   "name": "R",
   "pygments_lexer": "r",
   "version": "3.5.1"
  }
 },
 "nbformat": 4,
 "nbformat_minor": 2
}
