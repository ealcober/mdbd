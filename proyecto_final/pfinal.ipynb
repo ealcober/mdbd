{
 "cells": [
  {
   "cell_type": "markdown",
   "metadata": {},
   "source": [
    "# Carga de datos y preparación del espacio de trabajo.\n",
    "## Cargamos las bibliotecas / librerías que utilizamos\n",
    "## Definimos las funciones user-defined que hemos necesitado"
   ]
  },
  {
   "cell_type": "code",
   "execution_count": 1,
   "metadata": {},
   "outputs": [
    {
     "name": "stderr",
     "output_type": "stream",
     "text": [
      "Loading required package: XLConnect\n",
      "Warning message:\n",
      "\"package 'XLConnect' was built under R version 3.5.2\"Loading required package: XLConnectJars\n",
      "Warning message:\n",
      "\"package 'XLConnectJars' was built under R version 3.5.2\"XLConnect 0.2-15 by Mirai Solutions GmbH [aut],\n",
      "  Martin Studer [cre],\n",
      "  The Apache Software Foundation [ctb, cph] (Apache POI),\n",
      "  Graph Builder [ctb, cph] (Curvesapi Java library)\n",
      "http://www.mirai-solutions.com\n",
      "https://github.com/miraisolutions/xlconnect\n",
      "Loading required package: dplyr\n",
      "Warning message:\n",
      "\"package 'dplyr' was built under R version 3.5.2\"\n",
      "Attaching package: 'dplyr'\n",
      "\n",
      "The following objects are masked from 'package:stats':\n",
      "\n",
      "    filter, lag\n",
      "\n",
      "The following objects are masked from 'package:base':\n",
      "\n",
      "    intersect, setdiff, setequal, union\n",
      "\n",
      "Loading required package: ggplot2\n",
      "Warning message:\n",
      "\"package 'ggplot2' was built under R version 3.5.2\"Loading required package: caTools\n",
      "Warning message:\n",
      "\"package 'caTools' was built under R version 3.5.3\"Loading required package: RColorBrewer\n",
      "Warning message:\n",
      "\"package 'RColorBrewer' was built under R version 3.5.2\""
     ]
    }
   ],
   "source": [
    "# Preparamos el espacio de trabajo\n",
    "# setwd('/Users/agus/Downloads/mdbd-master-3/proyecto_final')\n",
    "setwd('C:/Users/ealcober/git/mdbd/mdbd/proyecto_final')\n",
    "# para trabajar con ficheros excel\n",
    "if(!require(\"XLConnect\"))install.packages(\"XLConnect\") \n",
    "library(XLConnect)\n",
    "\n",
    "# dep 1\n",
    "if(!require(\"dplyr\"))install.packages(\"dplyr\") \n",
    "library(dplyr)\n",
    "\n",
    "# dep 2\n",
    "if(!require(\"ggplot2\"))install.packages(\"ggplot2\") \n",
    "library(ggplot2)\n",
    "\n",
    "if(!require(\"caTools\"))install.packages(\"caTools\", repos = \"http://cran.us.r-project.org\")\n",
    "library(caTools)\n",
    "\n",
    "# dep 3\n",
    "if(!require(\"RColorBrewer\"))install.packages(\"RColorBrewer\") \n",
    "library(RColorBrewer)\n",
    "\n",
    "# Función para eliminar fila por índice\n",
    "removeRowByIndex <- function(x, row_index) {\n",
    "  nr <- nrow(x)\n",
    "  if (nr < row_index) {\n",
    "    print('row_index exceeds number of rows')\n",
    "  } else if (row_index == 1)\n",
    "  {\n",
    "    return(x[2:nr, ])\n",
    "  } else if (row_index == nr) {\n",
    "    return(x[1:(nr - 1), ])\n",
    "  } else {\n",
    "    return (x[c(1:(row_index - 1), (row_index + 1):nr), ])\n",
    "  }\n",
    "}\n",
    "\n",
    "# Funcion que convierte a 0's los NAs\n",
    "haz.cero.na=function(x){\n",
    "  ifelse(is.na(x),0,x)}"
   ]
  },
  {
   "cell_type": "markdown",
   "metadata": {},
   "source": [
    "# Nuestra hipótesis inicial:\n",
    "\n",
    "## Queremos encontrar, si existe, una relación entre el nivel educativo de la población y el nivel de uso de plástico y su gestión en el rango de años 1960-2010.\n",
    "\n",
    "## De forma intuitiva, ante el incremento del efecto invernadero y la cantidad de plástico producida industrialmente, una población con mejor formación y educación habría de ser más eficiente en el tratamiento de residuos, o en sus elecciones a la hora de escoger en sus compras, otro tipo de residuos no plásticos.\n",
    "\n",
    "# Comenzamos exponiendo brevemente unas cifras que ilustran la Producción de plástico global en Toneladas, en serie temporal, sobre la gráfica de \"media de años que un adulto pasa escolarizado\" a lo largo de los años estudiados."
   ]
  },
  {
   "cell_type": "code",
   "execution_count": 2,
   "metadata": {},
   "outputs": [
    {
     "data": {
      "text/html": [
       "<table>\n",
       "<thead><tr><th></th><th scope=col>Year</th><th scope=col>Prod de plastico global</th></tr></thead>\n",
       "<tbody>\n",
       "\t<tr><th scope=row>61</th><td>2010     </td><td>313000000</td></tr>\n",
       "\t<tr><th scope=row>62</th><td>2011     </td><td>325000000</td></tr>\n",
       "\t<tr><th scope=row>63</th><td>2012     </td><td>338000000</td></tr>\n",
       "\t<tr><th scope=row>64</th><td>2013     </td><td>352000000</td></tr>\n",
       "\t<tr><th scope=row>65</th><td>2014     </td><td>367000000</td></tr>\n",
       "\t<tr><th scope=row>66</th><td>2015     </td><td>381000000</td></tr>\n",
       "</tbody>\n",
       "</table>\n"
      ],
      "text/latex": [
       "\\begin{tabular}{r|ll}\n",
       "  & Year & Prod de plastico global\\\\\n",
       "\\hline\n",
       "\t61 & 2010      & 313000000\\\\\n",
       "\t62 & 2011      & 325000000\\\\\n",
       "\t63 & 2012      & 338000000\\\\\n",
       "\t64 & 2013      & 352000000\\\\\n",
       "\t65 & 2014      & 367000000\\\\\n",
       "\t66 & 2015      & 381000000\\\\\n",
       "\\end{tabular}\n"
      ],
      "text/markdown": [
       "\n",
       "| <!--/--> | Year | Prod de plastico global | \n",
       "|---|---|---|---|---|---|\n",
       "| 61 | 2010      | 313000000 | \n",
       "| 62 | 2011      | 325000000 | \n",
       "| 63 | 2012      | 338000000 | \n",
       "| 64 | 2013      | 352000000 | \n",
       "| 65 | 2014      | 367000000 | \n",
       "| 66 | 2015      | 381000000 | \n",
       "\n",
       "\n"
      ],
      "text/plain": [
       "   Year Prod de plastico global\n",
       "61 2010 313000000              \n",
       "62 2011 325000000              \n",
       "63 2012 338000000              \n",
       "64 2013 352000000              \n",
       "65 2014 367000000              \n",
       "66 2015 381000000              "
      ]
     },
     "metadata": {},
     "output_type": "display_data"
    },
    {
     "data": {
      "text/html": [
       "<table>\n",
       "<thead><tr><th></th><th scope=col>Entity</th><th scope=col>Code</th><th scope=col>Year</th><th scope=col>TotalYearsAtSchool</th></tr></thead>\n",
       "<tbody>\n",
       "\t<tr><th scope=row>3214</th><td>Zimbabwe</td><td>ZWE     </td><td>1985    </td><td>4.84    </td></tr>\n",
       "\t<tr><th scope=row>3215</th><td>Zimbabwe</td><td>ZWE     </td><td>1990    </td><td>5.97    </td></tr>\n",
       "\t<tr><th scope=row>3216</th><td>Zimbabwe</td><td>ZWE     </td><td>1995    </td><td>6.85    </td></tr>\n",
       "\t<tr><th scope=row>3217</th><td>Zimbabwe</td><td>ZWE     </td><td>2000    </td><td>7.26    </td></tr>\n",
       "\t<tr><th scope=row>3218</th><td>Zimbabwe</td><td>ZWE     </td><td>2005    </td><td>7.65    </td></tr>\n",
       "\t<tr><th scope=row>3219</th><td>Zimbabwe</td><td>ZWE     </td><td>2010    </td><td>7.86    </td></tr>\n",
       "</tbody>\n",
       "</table>\n"
      ],
      "text/latex": [
       "\\begin{tabular}{r|llll}\n",
       "  & Entity & Code & Year & TotalYearsAtSchool\\\\\n",
       "\\hline\n",
       "\t3214 & Zimbabwe & ZWE      & 1985     & 4.84    \\\\\n",
       "\t3215 & Zimbabwe & ZWE      & 1990     & 5.97    \\\\\n",
       "\t3216 & Zimbabwe & ZWE      & 1995     & 6.85    \\\\\n",
       "\t3217 & Zimbabwe & ZWE      & 2000     & 7.26    \\\\\n",
       "\t3218 & Zimbabwe & ZWE      & 2005     & 7.65    \\\\\n",
       "\t3219 & Zimbabwe & ZWE      & 2010     & 7.86    \\\\\n",
       "\\end{tabular}\n"
      ],
      "text/markdown": [
       "\n",
       "| <!--/--> | Entity | Code | Year | TotalYearsAtSchool | \n",
       "|---|---|---|---|---|---|\n",
       "| 3214 | Zimbabwe | ZWE      | 1985     | 4.84     | \n",
       "| 3215 | Zimbabwe | ZWE      | 1990     | 5.97     | \n",
       "| 3216 | Zimbabwe | ZWE      | 1995     | 6.85     | \n",
       "| 3217 | Zimbabwe | ZWE      | 2000     | 7.26     | \n",
       "| 3218 | Zimbabwe | ZWE      | 2005     | 7.65     | \n",
       "| 3219 | Zimbabwe | ZWE      | 2010     | 7.86     | \n",
       "\n",
       "\n"
      ],
      "text/plain": [
       "     Entity   Code Year TotalYearsAtSchool\n",
       "3214 Zimbabwe ZWE  1985 4.84              \n",
       "3215 Zimbabwe ZWE  1990 5.97              \n",
       "3216 Zimbabwe ZWE  1995 6.85              \n",
       "3217 Zimbabwe ZWE  2000 7.26              \n",
       "3218 Zimbabwe ZWE  2005 7.65              \n",
       "3219 Zimbabwe ZWE  2010 7.86              "
      ]
     },
     "metadata": {},
     "output_type": "display_data"
    },
    {
     "data": {
      "image/png": "[encoded data removed]",
      "text/plain": [
       "plot without title"
      ]
     },
     "metadata": {},
     "output_type": "display_data"
    }
   ],
   "source": [
    "\n",
    "gpp<-read.csv('sources/global-plastics-production.csv',header=TRUE,sep=\",\" , quote=\"\\\"\",dec=\".\",fill=TRUE)\n",
    "sch<-read.csv('sources/mean-years-of-schooling-selected-countries.csv',header=TRUE,sep=\",\" , quote=\"\\\"\",dec=\".\",fill=TRUE)\n",
    "\n",
    "gpp$Entity <- NULL\n",
    "gpp$Code <- NULL\n",
    "\n",
    "# Arreglamos los nombres de las variables \n",
    "colnames(gpp) <- c(\"Year\", \"Prod de plastico global\")\n",
    "colnames(sch) <- c(\"Entity\", \"Code\", \"Year\", \"TotalYearsAtSchool\")\n",
    "\n",
    "# Sumamos por año, calculando la media de años que pasa escolarizada cada persona\n",
    "schmean<-aggregate.data.frame(sch$TotalYearsAtSchool ,list(sch$Year), FUN=mean)\n",
    "colnames(schmean) <- c(\"Year\", \"mean escolarizados\")\n",
    "prueba <- merge(gpp, schmean, by.y=\"Year\", sort = TRUE)\n",
    "\n",
    "# Dividimos las cantidades a x10 toneladas (1 unidad son 10 toneladas) por proporcionalidad con la otra magnitud\n",
    "prueba$`Prod de plastico global` <- prueba$`Prod de plastico global` / 10000000\n",
    "\n",
    "# Imprimimos la tabla y el gráfico con su leyenda correspondiente.\n",
    "# Muestra de ambas tablas\n",
    "tail(gpp)\n",
    "tail(sch)\n",
    "plot(prueba$Year,prueba$`Prod de plastico global`,type=\"l\",col=\"blue\", \n",
    "     xlim=c(1960,2010), xlab=\"Years\", ylab=\"Value\")\n",
    "lines(prueba$Year,prueba$`mean escolarizados`,col=\"red\")\n",
    "\n",
    "legend(\"bottomleft\", legend=c(\"Toneladas de plástico producidas\", \"Media de años de escolarización p/c\"),\n",
    "      col=c(\"blue\", \"red\"),\n",
    "      pch=c(20,20),\n",
    "       inset=c(0.005,0.83)\n",
    "      )\n",
    "\n"
   ]
  },
  {
   "cell_type": "markdown",
   "metadata": {},
   "source": [
    "# vamos a buscar una relación entre ambas variables, colocándolas en ambos ejes respectivos x e y en una gráfica de 2d."
   ]
  },
  {
   "cell_type": "code",
   "execution_count": 3,
   "metadata": {},
   "outputs": [
    {
     "data": {
      "text/html": [
       "<table>\n",
       "<thead><tr><th scope=col>Year</th><th scope=col>Prod de plastico global</th><th scope=col>mean escolarizados</th></tr></thead>\n",
       "<tbody>\n",
       "\t<tr><td>1950     </td><td>  2000000</td><td>3.026036 </td></tr>\n",
       "\t<tr><td>1955     </td><td>  4000000</td><td>3.253243 </td></tr>\n",
       "\t<tr><td>1960     </td><td>  8000000</td><td>3.516486 </td></tr>\n",
       "\t<tr><td>1965     </td><td> 17000000</td><td>3.878198 </td></tr>\n",
       "\t<tr><td>1970     </td><td> 35000000</td><td>4.411892 </td></tr>\n",
       "\t<tr><td>1975     </td><td> 46000000</td><td>4.949279 </td></tr>\n",
       "\t<tr><td>1980     </td><td> 70000000</td><td>5.547838 </td></tr>\n",
       "\t<tr><td>1985     </td><td> 90000000</td><td>6.095315 </td></tr>\n",
       "\t<tr><td>1990     </td><td>120000000</td><td>6.636126 </td></tr>\n",
       "\t<tr><td>1995     </td><td>156000000</td><td>7.155495 </td></tr>\n",
       "\t<tr><td>2000     </td><td>213000000</td><td>7.612883 </td></tr>\n",
       "\t<tr><td>2005     </td><td>263000000</td><td>8.139279 </td></tr>\n",
       "\t<tr><td>2010     </td><td>313000000</td><td>8.607477 </td></tr>\n",
       "</tbody>\n",
       "</table>\n"
      ],
      "text/latex": [
       "\\begin{tabular}{r|lll}\n",
       " Year & Prod de plastico global & mean escolarizados\\\\\n",
       "\\hline\n",
       "\t 1950      &   2000000 & 3.026036 \\\\\n",
       "\t 1955      &   4000000 & 3.253243 \\\\\n",
       "\t 1960      &   8000000 & 3.516486 \\\\\n",
       "\t 1965      &  17000000 & 3.878198 \\\\\n",
       "\t 1970      &  35000000 & 4.411892 \\\\\n",
       "\t 1975      &  46000000 & 4.949279 \\\\\n",
       "\t 1980      &  70000000 & 5.547838 \\\\\n",
       "\t 1985      &  90000000 & 6.095315 \\\\\n",
       "\t 1990      & 120000000 & 6.636126 \\\\\n",
       "\t 1995      & 156000000 & 7.155495 \\\\\n",
       "\t 2000      & 213000000 & 7.612883 \\\\\n",
       "\t 2005      & 263000000 & 8.139279 \\\\\n",
       "\t 2010      & 313000000 & 8.607477 \\\\\n",
       "\\end{tabular}\n"
      ],
      "text/markdown": [
       "\n",
       "Year | Prod de plastico global | mean escolarizados | \n",
       "|---|---|---|---|---|---|---|---|---|---|---|---|---|\n",
       "| 1950      |   2000000 | 3.026036  | \n",
       "| 1955      |   4000000 | 3.253243  | \n",
       "| 1960      |   8000000 | 3.516486  | \n",
       "| 1965      |  17000000 | 3.878198  | \n",
       "| 1970      |  35000000 | 4.411892  | \n",
       "| 1975      |  46000000 | 4.949279  | \n",
       "| 1980      |  70000000 | 5.547838  | \n",
       "| 1985      |  90000000 | 6.095315  | \n",
       "| 1990      | 120000000 | 6.636126  | \n",
       "| 1995      | 156000000 | 7.155495  | \n",
       "| 2000      | 213000000 | 7.612883  | \n",
       "| 2005      | 263000000 | 8.139279  | \n",
       "| 2010      | 313000000 | 8.607477  | \n",
       "\n",
       "\n"
      ],
      "text/plain": [
       "   Year Prod de plastico global mean escolarizados\n",
       "1  1950   2000000               3.026036          \n",
       "2  1955   4000000               3.253243          \n",
       "3  1960   8000000               3.516486          \n",
       "4  1965  17000000               3.878198          \n",
       "5  1970  35000000               4.411892          \n",
       "6  1975  46000000               4.949279          \n",
       "7  1980  70000000               5.547838          \n",
       "8  1985  90000000               6.095315          \n",
       "9  1990 120000000               6.636126          \n",
       "10 1995 156000000               7.155495          \n",
       "11 2000 213000000               7.612883          \n",
       "12 2005 263000000               8.139279          \n",
       "13 2010 313000000               8.607477          "
      ]
     },
     "metadata": {},
     "output_type": "display_data"
    },
    {
     "data": {},
     "metadata": {},
     "output_type": "display_data"
    },
    {
     "data": {
      "image/png": "[encoded data removed]",
      "text/plain": [
       "plot without title"
      ]
     },
     "metadata": {},
     "output_type": "display_data"
    }
   ],
   "source": [
    "# agrupación de ambas tablas por año\n",
    "prueba <- merge(gpp, schmean, by.y=\"Year\", sort = TRUE)\n",
    "\n",
    "\n",
    "prueba\n",
    "colnames(prueba) <- c('Year', 'x', 'y')\n",
    "ggplot() + geom_point(data = prueba, aes(x = prueba$x, y = prueba$y)) + \n",
    "  xlab(\"Prod. Plástico Global (Variable Independiente)\") + \n",
    "  ylab(\"Media años escolarización/persona (Variable Dependiente)\") + \n",
    "  ggtitle(\"Relación entre ambas variables\")"
   ]
  },
  {
   "cell_type": "markdown",
   "metadata": {},
   "source": [
    "# De forma contraria a como esperábamos la proporción aumenta:\n",
    "# A lo largo de los años ha ido aumentando el tiempo medio que una persona pasa escolarizada en su vida, y proporcionalmente a éste, la cantidad de plástico total producido en esos años.\n",
    "\n",
    "# Vamos a tratar de aproximarnos para predicciones posteriores mediante regresión: partimos el conjunto de nuestros datos en 70% prueba y 30% entrenamiento\n"
   ]
  },
  {
   "cell_type": "code",
   "execution_count": 4,
   "metadata": {},
   "outputs": [],
   "source": [
    "split = sample.split(prueba$y, SplitRatio = 0.7)\n",
    "nltrain = subset(prueba, split == TRUE)\n",
    "nltest = subset(prueba, split == FALSE)"
   ]
  },
  {
   "cell_type": "code",
   "execution_count": 5,
   "metadata": {},
   "outputs": [
    {
     "name": "stdout",
     "output_type": "stream",
     "text": [
      "'data.frame':\t9 obs. of  4 variables:\n",
      " $ Year: int  1950 1955 1960 1965 1970 1995 2000 2005 2010\n",
      " $ x   : int  2000000 4000000 8000000 17000000 35000000 156000000 213000000 263000000 313000000\n",
      " $ y   : num  3.03 3.25 3.52 3.88 4.41 ...\n",
      " $ x2  : num  4.00e+12 1.60e+13 6.40e+13 2.89e+14 1.22e+15 ...\n"
     ]
    }
   ],
   "source": [
    "nltrain$x2 <- nltrain$x^2\n",
    "str(nltrain)"
   ]
  },
  {
   "cell_type": "code",
   "execution_count": 6,
   "metadata": {},
   "outputs": [],
   "source": [
    "set.seed(1234)\n",
    "regresion_poly <- lm(nltrain$y ~ nltrain$x + x2, data = nltrain)"
   ]
  },
  {
   "cell_type": "code",
   "execution_count": 7,
   "metadata": {},
   "outputs": [
    {
     "data": {
      "text/plain": [
       "\n",
       "Call:\n",
       "lm(formula = nltrain$y ~ nltrain$x + x2, data = nltrain)\n",
       "\n",
       "Residuals:\n",
       "     Min       1Q   Median       3Q      Max \n",
       "-0.24384 -0.12091  0.05855  0.14463  0.15122 \n",
       "\n",
       "Coefficients:\n",
       "              Estimate Std. Error t value Pr(>|t|)    \n",
       "(Intercept)  3.206e+00  9.572e-02  33.498 4.71e-08 ***\n",
       "nltrain$x    3.182e-08  2.264e-09  14.057 8.09e-06 ***\n",
       "x2          -4.794e-17  7.728e-18  -6.203 0.000809 ***\n",
       "---\n",
       "Signif. codes:  0 '***' 0.001 '**' 0.01 '*' 0.05 '.' 0.1 ' ' 1\n",
       "\n",
       "Residual standard error: 0.1861 on 6 degrees of freedom\n",
       "Multiple R-squared:  0.9951,\tAdjusted R-squared:  0.9935 \n",
       "F-statistic: 614.1 on 2 and 6 DF,  p-value: 1.149e-07\n"
      ]
     },
     "metadata": {},
     "output_type": "display_data"
    }
   ],
   "source": [
    "summary(regresion_poly)"
   ]
  },
  {
   "cell_type": "code",
   "execution_count": 8,
   "metadata": {},
   "outputs": [
    {
     "data": {},
     "metadata": {},
     "output_type": "display_data"
    },
    {
     "data": {
      "image/png": "[encoded data removed]",
      "text/plain": [
       "plot without title"
      ]
     },
     "metadata": {},
     "output_type": "display_data"
    }
   ],
   "source": [
    "y_poly_predict <- predict(regresion_poly, nltrain)\n",
    "ggplot() + geom_point(data = nltrain, aes(x = nltrain$x, y = nltrain$y), size = 0.7) + \n",
    "  geom_line(aes( x = nltrain$x, y = y_poly_predict), color = \"red\") +\n",
    "  xlab(\"Variable Independiente\") + \n",
    "  ylab(\"Variable Dependiente\") + \n",
    "  ggtitle(\"Curva de Ajuste sobre Conjunto de Entrenamiento (nltrain)\")"
   ]
  },
  {
   "cell_type": "code",
   "execution_count": 9,
   "metadata": {},
   "outputs": [
    {
     "data": {
      "text/plain": [
       "\n",
       "Call:\n",
       "lm(formula = nltrain$y ~ nltrain$x + x2 + x3, data = nltrain)\n",
       "\n",
       "Residuals:\n",
       "       1        2        3        4        5       10       11       12 \n",
       "-0.12517  0.01165  0.09803  0.08052 -0.07017  0.02963 -0.06203  0.05303 \n",
       "      13 \n",
       "-0.01550 \n",
       "\n",
       "Coefficients:\n",
       "              Estimate Std. Error t value Pr(>|t|)    \n",
       "(Intercept)  3.059e+00  5.950e-02  51.421 5.26e-08 ***\n",
       "nltrain$x    4.619e-08  3.550e-09  13.011 4.78e-05 ***\n",
       "x2          -1.670e-16  2.811e-17  -5.941  0.00193 ** \n",
       "x3           2.434e-25  5.691e-26   4.277  0.00788 ** \n",
       "---\n",
       "Signif. codes:  0 '***' 0.001 '**' 0.01 '*' 0.05 '.' 0.1 ' ' 1\n",
       "\n",
       "Residual standard error: 0.09445 on 5 degrees of freedom\n",
       "Multiple R-squared:  0.999,\tAdjusted R-squared:  0.9983 \n",
       "F-statistic:  1596 on 3 and 5 DF,  p-value: 7.162e-08\n"
      ]
     },
     "metadata": {},
     "output_type": "display_data"
    }
   ],
   "source": [
    "nltrain$x3 <- nltrain$x^3\n",
    "regresion_poly <- lm(nltrain$y ~ nltrain$x + x2 + x3, data = nltrain)\n",
    "summary(regresion_poly)"
   ]
  },
  {
   "cell_type": "code",
   "execution_count": 45,
   "metadata": {
    "scrolled": true
   },
   "outputs": [
    {
     "data": {},
     "metadata": {},
     "output_type": "display_data"
    },
    {
     "data": {
      "image/png": "[encoded data removed]",
      "text/plain": [
       "plot without title"
      ]
     },
     "metadata": {},
     "output_type": "display_data"
    }
   ],
   "source": [
    "y_poly_predict <- predict(regresion_poly, nltrain)\n",
    "ggplot() + \n",
    "geom_point(data = nltrain, aes(x = nltrain$x, y = nltrain$y), size = 0.9) + \n",
    "geom_line(aes( x = nltrain$x, y = y_poly_predict), color = \"red\") +\n",
    "  xlab(\"Variable Independiente\") + \n",
    "  ylab(\"Variable Dependiente\") + \n",
    "  ggtitle(\"Curva de Ajuste sobre Conjunto de Entrenamiento (nltrain)\")"
   ]
  },
  {
   "cell_type": "code",
   "execution_count": 51,
   "metadata": {},
   "outputs": [
    {
     "data": {
      "text/html": [
       "<table>\n",
       "<thead><tr><th scope=col>x</th><th scope=col>x2</th><th scope=col>x3</th></tr></thead>\n",
       "<tbody>\n",
       "\t<tr><td>31300000    </td><td>9.79690e+14 </td><td>3.066430e+22</td></tr>\n",
       "\t<tr><td>32300000    </td><td>1.04329e+15 </td><td>3.369827e+22</td></tr>\n",
       "\t<tr><td>33300000    </td><td>1.10889e+15 </td><td>3.692604e+22</td></tr>\n",
       "\t<tr><td>34300000    </td><td>1.17649e+15 </td><td>4.035361e+22</td></tr>\n",
       "\t<tr><td>35300000    </td><td>1.24609e+15 </td><td>4.398698e+22</td></tr>\n",
       "\t<tr><td>36300000    </td><td>1.31769e+15 </td><td>4.783215e+22</td></tr>\n",
       "\t<tr><td>37300000    </td><td>1.39129e+15 </td><td>5.189512e+22</td></tr>\n",
       "\t<tr><td>38300000    </td><td>1.46689e+15 </td><td>5.618189e+22</td></tr>\n",
       "\t<tr><td>39300000    </td><td>1.54449e+15 </td><td>6.069846e+22</td></tr>\n",
       "\t<tr><td>40300000    </td><td>1.62409e+15 </td><td>6.545083e+22</td></tr>\n",
       "\t<tr><td>41300000    </td><td>1.70569e+15 </td><td>7.044500e+22</td></tr>\n",
       "\t<tr><td>42300000    </td><td>1.78929e+15 </td><td>7.568697e+22</td></tr>\n",
       "\t<tr><td>43300000    </td><td>1.87489e+15 </td><td>8.118274e+22</td></tr>\n",
       "\t<tr><td>44300000    </td><td>1.96249e+15 </td><td>8.693831e+22</td></tr>\n",
       "\t<tr><td>45300000    </td><td>2.05209e+15 </td><td>9.295968e+22</td></tr>\n",
       "\t<tr><td>46300000    </td><td>2.14369e+15 </td><td>9.925285e+22</td></tr>\n",
       "\t<tr><td>47300000    </td><td>2.23729e+15 </td><td>1.058238e+23</td></tr>\n",
       "\t<tr><td>48300000    </td><td>2.33289e+15 </td><td>1.126786e+23</td></tr>\n",
       "\t<tr><td>49300000    </td><td>2.43049e+15 </td><td>1.198232e+23</td></tr>\n",
       "\t<tr><td>50300000    </td><td>2.53009e+15 </td><td>1.272635e+23</td></tr>\n",
       "\t<tr><td>51300000    </td><td>2.63169e+15 </td><td>1.350057e+23</td></tr>\n",
       "\t<tr><td>52300000    </td><td>2.73529e+15 </td><td>1.430557e+23</td></tr>\n",
       "\t<tr><td>53300000    </td><td>2.84089e+15 </td><td>1.514194e+23</td></tr>\n",
       "\t<tr><td>54300000    </td><td>2.94849e+15 </td><td>1.601030e+23</td></tr>\n",
       "\t<tr><td>55300000    </td><td>3.05809e+15 </td><td>1.691124e+23</td></tr>\n",
       "\t<tr><td>56300000    </td><td>3.16969e+15 </td><td>1.784535e+23</td></tr>\n",
       "\t<tr><td>57300000    </td><td>3.28329e+15 </td><td>1.881325e+23</td></tr>\n",
       "\t<tr><td>58300000    </td><td>3.39889e+15 </td><td>1.981553e+23</td></tr>\n",
       "\t<tr><td>59300000    </td><td>3.51649e+15 </td><td>2.085279e+23</td></tr>\n",
       "</tbody>\n",
       "</table>\n"
      ],
      "text/latex": [
       "\\begin{tabular}{r|lll}\n",
       " x & x2 & x3\\\\\n",
       "\\hline\n",
       "\t 31300000     & 9.79690e+14  & 3.066430e+22\\\\\n",
       "\t 32300000     & 1.04329e+15  & 3.369827e+22\\\\\n",
       "\t 33300000     & 1.10889e+15  & 3.692604e+22\\\\\n",
       "\t 34300000     & 1.17649e+15  & 4.035361e+22\\\\\n",
       "\t 35300000     & 1.24609e+15  & 4.398698e+22\\\\\n",
       "\t 36300000     & 1.31769e+15  & 4.783215e+22\\\\\n",
       "\t 37300000     & 1.39129e+15  & 5.189512e+22\\\\\n",
       "\t 38300000     & 1.46689e+15  & 5.618189e+22\\\\\n",
       "\t 39300000     & 1.54449e+15  & 6.069846e+22\\\\\n",
       "\t 40300000     & 1.62409e+15  & 6.545083e+22\\\\\n",
       "\t 41300000     & 1.70569e+15  & 7.044500e+22\\\\\n",
       "\t 42300000     & 1.78929e+15  & 7.568697e+22\\\\\n",
       "\t 43300000     & 1.87489e+15  & 8.118274e+22\\\\\n",
       "\t 44300000     & 1.96249e+15  & 8.693831e+22\\\\\n",
       "\t 45300000     & 2.05209e+15  & 9.295968e+22\\\\\n",
       "\t 46300000     & 2.14369e+15  & 9.925285e+22\\\\\n",
       "\t 47300000     & 2.23729e+15  & 1.058238e+23\\\\\n",
       "\t 48300000     & 2.33289e+15  & 1.126786e+23\\\\\n",
       "\t 49300000     & 2.43049e+15  & 1.198232e+23\\\\\n",
       "\t 50300000     & 2.53009e+15  & 1.272635e+23\\\\\n",
       "\t 51300000     & 2.63169e+15  & 1.350057e+23\\\\\n",
       "\t 52300000     & 2.73529e+15  & 1.430557e+23\\\\\n",
       "\t 53300000     & 2.84089e+15  & 1.514194e+23\\\\\n",
       "\t 54300000     & 2.94849e+15  & 1.601030e+23\\\\\n",
       "\t 55300000     & 3.05809e+15  & 1.691124e+23\\\\\n",
       "\t 56300000     & 3.16969e+15  & 1.784535e+23\\\\\n",
       "\t 57300000     & 3.28329e+15  & 1.881325e+23\\\\\n",
       "\t 58300000     & 3.39889e+15  & 1.981553e+23\\\\\n",
       "\t 59300000     & 3.51649e+15  & 2.085279e+23\\\\\n",
       "\\end{tabular}\n"
      ],
      "text/markdown": [
       "\n",
       "x | x2 | x3 | \n",
       "|---|---|---|---|---|---|---|---|---|---|---|---|---|---|---|---|---|---|---|---|---|---|---|---|---|---|---|---|---|\n",
       "| 31300000     | 9.79690e+14  | 3.066430e+22 | \n",
       "| 32300000     | 1.04329e+15  | 3.369827e+22 | \n",
       "| 33300000     | 1.10889e+15  | 3.692604e+22 | \n",
       "| 34300000     | 1.17649e+15  | 4.035361e+22 | \n",
       "| 35300000     | 1.24609e+15  | 4.398698e+22 | \n",
       "| 36300000     | 1.31769e+15  | 4.783215e+22 | \n",
       "| 37300000     | 1.39129e+15  | 5.189512e+22 | \n",
       "| 38300000     | 1.46689e+15  | 5.618189e+22 | \n",
       "| 39300000     | 1.54449e+15  | 6.069846e+22 | \n",
       "| 40300000     | 1.62409e+15  | 6.545083e+22 | \n",
       "| 41300000     | 1.70569e+15  | 7.044500e+22 | \n",
       "| 42300000     | 1.78929e+15  | 7.568697e+22 | \n",
       "| 43300000     | 1.87489e+15  | 8.118274e+22 | \n",
       "| 44300000     | 1.96249e+15  | 8.693831e+22 | \n",
       "| 45300000     | 2.05209e+15  | 9.295968e+22 | \n",
       "| 46300000     | 2.14369e+15  | 9.925285e+22 | \n",
       "| 47300000     | 2.23729e+15  | 1.058238e+23 | \n",
       "| 48300000     | 2.33289e+15  | 1.126786e+23 | \n",
       "| 49300000     | 2.43049e+15  | 1.198232e+23 | \n",
       "| 50300000     | 2.53009e+15  | 1.272635e+23 | \n",
       "| 51300000     | 2.63169e+15  | 1.350057e+23 | \n",
       "| 52300000     | 2.73529e+15  | 1.430557e+23 | \n",
       "| 53300000     | 2.84089e+15  | 1.514194e+23 | \n",
       "| 54300000     | 2.94849e+15  | 1.601030e+23 | \n",
       "| 55300000     | 3.05809e+15  | 1.691124e+23 | \n",
       "| 56300000     | 3.16969e+15  | 1.784535e+23 | \n",
       "| 57300000     | 3.28329e+15  | 1.881325e+23 | \n",
       "| 58300000     | 3.39889e+15  | 1.981553e+23 | \n",
       "| 59300000     | 3.51649e+15  | 2.085279e+23 | \n",
       "\n",
       "\n"
      ],
      "text/plain": [
       "   x        x2          x3          \n",
       "1  31300000 9.79690e+14 3.066430e+22\n",
       "2  32300000 1.04329e+15 3.369827e+22\n",
       "3  33300000 1.10889e+15 3.692604e+22\n",
       "4  34300000 1.17649e+15 4.035361e+22\n",
       "5  35300000 1.24609e+15 4.398698e+22\n",
       "6  36300000 1.31769e+15 4.783215e+22\n",
       "7  37300000 1.39129e+15 5.189512e+22\n",
       "8  38300000 1.46689e+15 5.618189e+22\n",
       "9  39300000 1.54449e+15 6.069846e+22\n",
       "10 40300000 1.62409e+15 6.545083e+22\n",
       "11 41300000 1.70569e+15 7.044500e+22\n",
       "12 42300000 1.78929e+15 7.568697e+22\n",
       "13 43300000 1.87489e+15 8.118274e+22\n",
       "14 44300000 1.96249e+15 8.693831e+22\n",
       "15 45300000 2.05209e+15 9.295968e+22\n",
       "16 46300000 2.14369e+15 9.925285e+22\n",
       "17 47300000 2.23729e+15 1.058238e+23\n",
       "18 48300000 2.33289e+15 1.126786e+23\n",
       "19 49300000 2.43049e+15 1.198232e+23\n",
       "20 50300000 2.53009e+15 1.272635e+23\n",
       "21 51300000 2.63169e+15 1.350057e+23\n",
       "22 52300000 2.73529e+15 1.430557e+23\n",
       "23 53300000 2.84089e+15 1.514194e+23\n",
       "24 54300000 2.94849e+15 1.601030e+23\n",
       "25 55300000 3.05809e+15 1.691124e+23\n",
       "26 56300000 3.16969e+15 1.784535e+23\n",
       "27 57300000 3.28329e+15 1.881325e+23\n",
       "28 58300000 3.39889e+15 1.981553e+23\n",
       "29 59300000 3.51649e+15 2.085279e+23"
      ]
     },
     "metadata": {},
     "output_type": "display_data"
    },
    {
     "ename": "ERROR",
     "evalue": "Error in model.frame.default(Terms, newdata, na.action = na.action, xlev = object$xlevels): variable lengths differ (found for 'x2')\n",
     "output_type": "error",
     "traceback": [
      "Error in model.frame.default(Terms, newdata, na.action = na.action, xlev = object$xlevels): variable lengths differ (found for 'x2')\nTraceback:\n",
      "1. predict(regresion_poly, newdata = data2)",
      "2. predict.lm(regresion_poly, newdata = data2)",
      "3. model.frame(Terms, newdata, na.action = na.action, xlev = object$xlevels)",
      "4. model.frame.default(Terms, newdata, na.action = na.action, xlev = object$xlevels)"
     ]
    }
   ],
   "source": [
    "data <- data.frame(x=seq(from=31.3e6,to=60e6, by=1e6))\n",
    "data2<-data.frame(cbind(data,data^2,data^3))\n",
    "colnames(data2)<-c(\"x\",\"x2\",\"x3\")\n",
    "data2\n",
    "predYears <- predict(regresion_poly,newdata=data2)\n",
    "#y_poly_predict <- predict(regresion_poly, nltest)\n",
    "#ggplot() + \n",
    "#geom_point(data = nltest, aes(x = nltest$x, y = nltest$y), size = 0.9) + \n",
    "#geom_line(aes( x = nltest$x, y = y_poly_predict), color = \"red\") +\n",
    "#  xlab(\"Variable Independiente\") + \n",
    "#  ylab(\"Variable Dependiente\") + \n",
    "#  ggtitle(\"Curva de Ajuste sobre Conjunto de Entrenamiento (nltrain)\")"
   ]
  }
 ],
 "metadata": {
  "kernelspec": {
   "display_name": "R",
   "language": "R",
   "name": "ir"
  },
  "language_info": {
   "codemirror_mode": "r",
   "file_extension": ".r",
   "mimetype": "text/x-r-source",
   "name": "R",
   "pygments_lexer": "r",
   "version": "3.5.1"
  }
 },
 "nbformat": 4,
 "nbformat_minor": 2
}
